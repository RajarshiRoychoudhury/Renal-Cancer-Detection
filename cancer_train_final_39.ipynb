{
  "nbformat": 4,
  "nbformat_minor": 0,
  "metadata": {
    "kernelspec": {
      "display_name": "Python 3",
      "language": "python",
      "name": "python3"
    },
    "language_info": {
      "codemirror_mode": {
        "name": "ipython",
        "version": 3
      },
      "file_extension": ".py",
      "mimetype": "text/x-python",
      "name": "python",
      "nbconvert_exporter": "python",
      "pygments_lexer": "ipython3",
      "version": "3.7.4"
    },
    "colab": {
      "name": "cancer_train_final_39.ipynb",
      "provenance": []
    }
  },
  "cells": [
    {
      "cell_type": "code",
      "metadata": {
        "id": "n9ZPxxtwbYy-",
        "colab_type": "code",
        "colab": {}
      },
      "source": [
        "import pandas as pd\n",
        "import numpy as np\n",
        "import matplotlib.pyplot as plt"
      ],
      "execution_count": 0,
      "outputs": []
    },
    {
      "cell_type": "code",
      "metadata": {
        "id": "UKm7XFoebYzE",
        "colab_type": "code",
        "colab": {}
      },
      "source": [
        "#this section will be on the 28 features excel file"
      ],
      "execution_count": 0,
      "outputs": []
    },
    {
      "cell_type": "code",
      "metadata": {
        "id": "rDbZGiVHbYzJ",
        "colab_type": "code",
        "colab": {}
      },
      "source": [
        "df=pd.read_excel(\"39 Features.xlsx\")\n",
        "#df.head(5)"
      ],
      "execution_count": 0,
      "outputs": []
    },
    {
      "cell_type": "code",
      "metadata": {
        "id": "WoshiyBdbYzP",
        "colab_type": "code",
        "colab": {}
      },
      "source": [
        "#df.columns"
      ],
      "execution_count": 0,
      "outputs": []
    },
    {
      "cell_type": "code",
      "metadata": {
        "id": "iEtNcRvqbYzU",
        "colab_type": "code",
        "colab": {}
      },
      "source": [
        "#df['tumor_grade'].unique()"
      ],
      "execution_count": 0,
      "outputs": []
    },
    {
      "cell_type": "code",
      "metadata": {
        "id": "uoprOOwcbYza",
        "colab_type": "code",
        "colab": {}
      },
      "source": [
        "#df.isnull().sum()"
      ],
      "execution_count": 0,
      "outputs": []
    },
    {
      "cell_type": "code",
      "metadata": {
        "id": "FLtbH2iDbYzi",
        "colab_type": "code",
        "colab": {}
      },
      "source": [
        "#for i in df.columns:\n",
        "  #print(str(i)+\"--->\",df[i].unique())\n"
      ],
      "execution_count": 0,
      "outputs": []
    },
    {
      "cell_type": "code",
      "metadata": {
        "id": "qeydXp8CbYzp",
        "colab_type": "code",
        "colab": {}
      },
      "source": [
        "df.replace({'[not]':0,'[Unknown]':1,'[not ]':0,\"Yes, History of Synchronous/Bilateral Malignancy\":'Yes','Yes, History of Prior Malignancy':'Yes'},inplace=True)"
      ],
      "execution_count": 0,
      "outputs": []
    },
    {
      "cell_type": "code",
      "metadata": {
        "id": "7N5Z4b3jbYzy",
        "colab_type": "code",
        "colab": {},
        "outputId": "a9efe268-5c32-4065-92e0-36bcbed90896"
      },
      "source": [
        "for i in df.columns:\n",
        "  print(str(i)+\"--->\",df[i].unique())\n"
      ],
      "execution_count": 0,
      "outputs": [
        {
          "output_type": "stream",
          "text": [
            "radiation_therapy_started_days_to---> [ 263  271   61  481  165    0  385  422   69  -72   21  603  227  298\n",
            "  153  457 1755 1787 1903 1174 2070 1534  119  748  994  234    6  685\n",
            "  702  324  477  600  483  169  301  729  842]\n",
            "tumor_grade---> ['G4' 'G2' 'G3' 'G1']\n",
            "laterality---> ['Right' 'Left']\n",
            "prospective_collection---> ['NO' 0 'YES']\n",
            "gender---> ['FEMALE' 'MALE']\n",
            "race---> ['WHITE' 'BLACK OR AFRICAN AMERICAN' 0 'ASIAN']\n",
            "ethnicity---> ['NOT HISPANIC OR LATINO' 0 'HISPANIC OR LATINO']\n",
            "history_other_malignancy---> ['No' 'Yes']\n",
            "history_neoadjuvant_treatment---> ['No' 'Yes']\n",
            "lymph_nodes_examined_count---> [10  2  0 17  1  9  5 16 14  4 19  3 21  6 11  8  7 13 15 25]\n",
            "lymph_nodes_examined_positive---> [0 2 1]\n",
            "ajcc_tumor_pathologic_pt---> ['T3b' 'T3a' 'T1b' 'T1a' 'T2' 'T2a' 'T4' 'T1' 'T2b' 'T3c']\n",
            "ajcc_nodes_pathologic_pn---> ['N0' 'NX' 'N1']\n",
            "ajcc_metastasis_pathologic_pm---> ['M1' 'M0' 'MX']\n",
            "ajcc_pathologic_tumor_stage---> ['Stage IV' 'Stage III' 'Stage I' 'Stage II']\n",
            "vital_status_followup---> ['Dead' 'Alive' 0]\n",
            "tumor_status_patient---> ['WITH TUMOR' 'TUMOR FREE' 0]\n",
            "serum_calcium_level---> ['Normal' 'Low' 'Elevated' 0]\n",
            "hemoglobin_level---> ['Low' 'Normal' 0 'Elevated']\n",
            "platelet_count---> ['Normal' 'Low' 0 'Elevated']\n",
            "white_cell_count---> ['Elevated' 'Normal' 0 'Low']\n",
            "ecog_score_final---> [0 1 2 3]\n",
            "new_tumor_event_dx_indicator---> [0 'YES' 'NO']\n",
            "tissue_source_site---> ['BP' 'B0' 'CJ' 'DV' 'CW' 'CZ' 'B8' 'G6']\n",
            "pharmaceutical_therapy_drug_name---> ['Sunitinib' 0 'xeloda' 'Sutent (Sunitinib)' 'Sorafenib - Nexavar'\n",
            " 'Bevacizumab' 'Temsirolimus' 'proleukin (IL-2)' 'Gemcitabine' 'Avastin'\n",
            " 'Sutent' 'Axitnib' 'Oncophage' 'Sorafenib' 'Interferon' 'IL-2'\n",
            " 'gemcitabine' 'RAD001' 'avastin' 'Tarceva' 'Axitinib' 'thalidomide'\n",
            " 'interferon-alpha' 'Xeloda' 'Pazopanib' 'Afinitor' 'Iressa' 'Zometa'\n",
            " 'Interleukin-2' 'Everolimus' 'oncophage vaccine' 'Bay-439006' 'sorafenib'\n",
            " 'sunitinib' 'Bortezomib' 'AZD' 'Intron A' 'nab-rapamycin' 'Roferon-A'\n",
            " 'IFN-Alpha (Intron)' 'interleukin-2' 'Gemzar'\n",
            " 'IL-2 Therapy (interleukin)' 'Gefitinib' 'Alpha Interferon' 'Nexavar'\n",
            " 'Interleukin 2-high dose' 'IL-2 (high dose)' 'sutent (sunitinib)'\n",
            " 'ZD6474']\n",
            "pharmaceutical_therapy_type---> ['Targeted Molecular therapy' 0 'Chemotherapy' 'Immunotherapy'\n",
            " 'Other, specify in notes']\n",
            "pharmaceutical_tx_ongoing_indicator---> ['NO' 0 'YES']\n",
            "pharmaceutical_treatment_duration---> [  24    0  511 2563   75  112  187    9  276  138   20   89  592   56\n",
            "  130   30   70   60   83   92   42  126  203   52  158  501   63   28\n",
            "   27  280  177  134  414  239 1029  341  133  163  115   79  519  323\n",
            "  365  429  266   91   23  255  425   15  304   12   50    7  727  238\n",
            "  124  183  514  485 1373  211   90  284  308   19   35  444    6  595\n",
            "  721   98  520  168  426 1021   21   78  287  159 1189  146]\n",
            "regimen_number---> [1 0 2 4 3 5]\n",
            "route_of_administration---> ['PO' 0 'IV' 'SC' 'IV|PO']\n",
            "therapy_regimen_drug---> ['PALLIATIVE' 0 'PROGRESSION' 'OTHER, SPECIFY IN NOTES' 'ADJUVANT'\n",
            " 'RECURRENCE']\n",
            "treatment_outcome_first_course---> [0 'Partial Remission/Response' 'Progressive Disease'\n",
            " 'Complete Remission/Response' 'Stable Disease']\n",
            "tumor_status_followup---> ['WITH TUMOR' 'TUMOR FREE' 0 1]\n",
            "death_days_to---> [ 344    0 1625  563  446  822 1317  320  572   93  313  164  552 1714\n",
            "  701  679 1343  166  162  224 2454  480 1337 1639 3615 1092  362  768\n",
            "  571  206 1912 1493   42  770 2299  139  561 2227 1463  574 2343   59\n",
            " 1964  202 1230  727 1590  828   69  878 1075  587 1200  992   41  485\n",
            " 2256  329   62  932 1661 1986  841  819  782 1432 1034  709  311 1270\n",
            " 2386  645 1133 1598  475  953 2190 1626 2105  722 1173  445  375 1111\n",
            "  242]\n",
            "new_tumor_event_dx_days_to---> [  13  243  265  359  137    0 2008  634  781   25   33  304  102 1717\n",
            " 1727   17   78  595  110   23   75  144  259  441  725  -19  492  324\n",
            "  213  153 1457 2780  457 2041  396 1709  886  694  485 2003 1821 1876\n",
            "  330 1467 1530  399 3766    4  740  582  672  223  873 2004 1227   70\n",
            "   61  295 1270  903  240 1423  208  169  322 -359  900  748  158  288\n",
            "  736  188  990  685  442  352  357  278  160  454  299  604  597 1912\n",
            "  423  538  377]\n",
            "new_tumor_event_surgery_met---> ['NO' 'YES' 0]\n",
            "treatment_outcome_at_tcga_followup---> [0 'Progressive Disease' 'Complete Remission/Response' 'Stable Disease' 1]\n",
            "radiation_total_dose---> [3000 3250 3600    0 3500 2000 3750 2400   20 1200  360  240  300 2200\n",
            " 4000 1800  860]\n",
            "radiation_adjuvant_fractions_total---> [ 5 10  0  2 15  6  3  1 12]\n"
          ],
          "name": "stdout"
        }
      ]
    },
    {
      "cell_type": "code",
      "metadata": {
        "id": "6FT8aZYMbYz3",
        "colab_type": "code",
        "colab": {},
        "outputId": "e3a87531-cc78-46dc-94c1-a9a90cf50b75"
      },
      "source": [
        "for column in df.columns:\n",
        "  if column not in [\"lymph_nodes_examined_count\",\"radiation_adjuvant_fractions_total\",\"death_days_to\",\"radiation_therapy_started_days_to\",\"new_tumor_event_dx_days_to\",\"radiation_total_dose\",\"regimen_number\"] :\n",
        "    n=len(df[column].unique())\n",
        "    l=[1+i for i in range(n)]\n",
        "    map_dict={}\n",
        "    l2=df[column].unique()\n",
        "    for j in range(len(l2)):\n",
        "      map_dict[l2[j]]=l[j]\n",
        "    df[column].replace(map_dict,inplace=True)\n",
        "    print(n,l2,map_dict)\n",
        "df.head(10)"
      ],
      "execution_count": 0,
      "outputs": [
        {
          "output_type": "stream",
          "text": [
            "4 ['G4' 'G2' 'G3' 'G1'] {'G4': 1, 'G2': 2, 'G3': 3, 'G1': 4}\n",
            "2 ['Right' 'Left'] {'Right': 1, 'Left': 2}\n",
            "3 ['NO' 0 'YES'] {'NO': 1, 0: 2, 'YES': 3}\n",
            "2 ['FEMALE' 'MALE'] {'FEMALE': 1, 'MALE': 2}\n",
            "4 ['WHITE' 'BLACK OR AFRICAN AMERICAN' 0 'ASIAN'] {'WHITE': 1, 'BLACK OR AFRICAN AMERICAN': 2, 0: 3, 'ASIAN': 4}\n",
            "3 ['NOT HISPANIC OR LATINO' 0 'HISPANIC OR LATINO'] {'NOT HISPANIC OR LATINO': 1, 0: 2, 'HISPANIC OR LATINO': 3}\n",
            "2 ['No' 'Yes'] {'No': 1, 'Yes': 2}\n",
            "2 ['No' 'Yes'] {'No': 1, 'Yes': 2}\n",
            "3 [0 2 1] {0: 1, 2: 2, 1: 3}\n",
            "10 ['T3b' 'T3a' 'T1b' 'T1a' 'T2' 'T2a' 'T4' 'T1' 'T2b' 'T3c'] {'T3b': 1, 'T3a': 2, 'T1b': 3, 'T1a': 4, 'T2': 5, 'T2a': 6, 'T4': 7, 'T1': 8, 'T2b': 9, 'T3c': 10}\n",
            "3 ['N0' 'NX' 'N1'] {'N0': 1, 'NX': 2, 'N1': 3}\n",
            "3 ['M1' 'M0' 'MX'] {'M1': 1, 'M0': 2, 'MX': 3}\n",
            "4 ['Stage IV' 'Stage III' 'Stage I' 'Stage II'] {'Stage IV': 1, 'Stage III': 2, 'Stage I': 3, 'Stage II': 4}\n",
            "3 ['Dead' 'Alive' 0] {'Dead': 1, 'Alive': 2, 0: 3}\n",
            "3 ['WITH TUMOR' 'TUMOR FREE' 0] {'WITH TUMOR': 1, 'TUMOR FREE': 2, 0: 3}\n",
            "4 ['Normal' 'Low' 'Elevated' 0] {'Normal': 1, 'Low': 2, 'Elevated': 3, 0: 4}\n",
            "4 ['Low' 'Normal' 0 'Elevated'] {'Low': 1, 'Normal': 2, 0: 3, 'Elevated': 4}\n",
            "4 ['Normal' 'Low' 0 'Elevated'] {'Normal': 1, 'Low': 2, 0: 3, 'Elevated': 4}\n",
            "4 ['Elevated' 'Normal' 0 'Low'] {'Elevated': 1, 'Normal': 2, 0: 3, 'Low': 4}\n",
            "4 [0 1 2 3] {0: 1, 1: 2, 2: 3, 3: 4}\n",
            "3 [0 'YES' 'NO'] {0: 1, 'YES': 2, 'NO': 3}\n",
            "8 ['BP' 'B0' 'CJ' 'DV' 'CW' 'CZ' 'B8' 'G6'] {'BP': 1, 'B0': 2, 'CJ': 3, 'DV': 4, 'CW': 5, 'CZ': 6, 'B8': 7, 'G6': 8}\n",
            "50 ['Sunitinib' 0 'xeloda' 'Sutent (Sunitinib)' 'Sorafenib - Nexavar'\n",
            " 'Bevacizumab' 'Temsirolimus' 'proleukin (IL-2)' 'Gemcitabine' 'Avastin'\n",
            " 'Sutent' 'Axitnib' 'Oncophage' 'Sorafenib' 'Interferon' 'IL-2'\n",
            " 'gemcitabine' 'RAD001' 'avastin' 'Tarceva' 'Axitinib' 'thalidomide'\n",
            " 'interferon-alpha' 'Xeloda' 'Pazopanib' 'Afinitor' 'Iressa' 'Zometa'\n",
            " 'Interleukin-2' 'Everolimus' 'oncophage vaccine' 'Bay-439006' 'sorafenib'\n",
            " 'sunitinib' 'Bortezomib' 'AZD' 'Intron A' 'nab-rapamycin' 'Roferon-A'\n",
            " 'IFN-Alpha (Intron)' 'interleukin-2' 'Gemzar'\n",
            " 'IL-2 Therapy (interleukin)' 'Gefitinib' 'Alpha Interferon' 'Nexavar'\n",
            " 'Interleukin 2-high dose' 'IL-2 (high dose)' 'sutent (sunitinib)'\n",
            " 'ZD6474'] {'Sunitinib': 1, 0: 2, 'xeloda': 3, 'Sutent (Sunitinib)': 4, 'Sorafenib - Nexavar': 5, 'Bevacizumab': 6, 'Temsirolimus': 7, 'proleukin (IL-2)': 8, 'Gemcitabine': 9, 'Avastin': 10, 'Sutent': 11, 'Axitnib': 12, 'Oncophage': 13, 'Sorafenib': 14, 'Interferon': 15, 'IL-2': 16, 'gemcitabine': 17, 'RAD001': 18, 'avastin': 19, 'Tarceva': 20, 'Axitinib': 21, 'thalidomide': 22, 'interferon-alpha': 23, 'Xeloda': 24, 'Pazopanib': 25, 'Afinitor': 26, 'Iressa': 27, 'Zometa': 28, 'Interleukin-2': 29, 'Everolimus': 30, 'oncophage vaccine': 31, 'Bay-439006': 32, 'sorafenib': 33, 'sunitinib': 34, 'Bortezomib': 35, 'AZD': 36, 'Intron A': 37, 'nab-rapamycin': 38, 'Roferon-A': 39, 'IFN-Alpha (Intron)': 40, 'interleukin-2': 41, 'Gemzar': 42, 'IL-2 Therapy (interleukin)': 43, 'Gefitinib': 44, 'Alpha Interferon': 45, 'Nexavar': 46, 'Interleukin 2-high dose': 47, 'IL-2 (high dose)': 48, 'sutent (sunitinib)': 49, 'ZD6474': 50}\n",
            "5 ['Targeted Molecular therapy' 0 'Chemotherapy' 'Immunotherapy'\n",
            " 'Other, specify in notes'] {'Targeted Molecular therapy': 1, 0: 2, 'Chemotherapy': 3, 'Immunotherapy': 4, 'Other, specify in notes': 5}\n",
            "3 ['NO' 0 'YES'] {'NO': 1, 0: 2, 'YES': 3}\n",
            "82 [  24    0  511 2563   75  112  187    9  276  138   20   89  592   56\n",
            "  130   30   70   60   83   92   42  126  203   52  158  501   63   28\n",
            "   27  280  177  134  414  239 1029  341  133  163  115   79  519  323\n",
            "  365  429  266   91   23  255  425   15  304   12   50    7  727  238\n",
            "  124  183  514  485 1373  211   90  284  308   19   35  444    6  595\n",
            "  721   98  520  168  426 1021   21   78  287  159 1189  146] {24: 1, 0: 2, 511: 3, 2563: 4, 75: 5, 112: 6, 187: 7, 9: 8, 276: 9, 138: 10, 20: 11, 89: 12, 592: 13, 56: 14, 130: 15, 30: 16, 70: 17, 60: 18, 83: 19, 92: 20, 42: 21, 126: 22, 203: 23, 52: 24, 158: 25, 501: 26, 63: 27, 28: 28, 27: 29, 280: 30, 177: 31, 134: 32, 414: 33, 239: 34, 1029: 35, 341: 36, 133: 37, 163: 38, 115: 39, 79: 40, 519: 41, 323: 42, 365: 43, 429: 44, 266: 45, 91: 46, 23: 47, 255: 48, 425: 49, 15: 50, 304: 51, 12: 52, 50: 53, 7: 54, 727: 55, 238: 56, 124: 57, 183: 58, 514: 59, 485: 60, 1373: 61, 211: 62, 90: 63, 284: 64, 308: 65, 19: 66, 35: 67, 444: 68, 6: 69, 595: 70, 721: 71, 98: 72, 520: 73, 168: 74, 426: 75, 1021: 76, 21: 77, 78: 78, 287: 79, 159: 80, 1189: 81, 146: 82}\n",
            "5 ['PO' 0 'IV' 'SC' 'IV|PO'] {'PO': 1, 0: 2, 'IV': 3, 'SC': 4, 'IV|PO': 5}\n",
            "6 ['PALLIATIVE' 0 'PROGRESSION' 'OTHER, SPECIFY IN NOTES' 'ADJUVANT'\n",
            " 'RECURRENCE'] {'PALLIATIVE': 1, 0: 2, 'PROGRESSION': 3, 'OTHER, SPECIFY IN NOTES': 4, 'ADJUVANT': 5, 'RECURRENCE': 6}\n",
            "5 [0 'Partial Remission/Response' 'Progressive Disease'\n",
            " 'Complete Remission/Response' 'Stable Disease'] {0: 1, 'Partial Remission/Response': 2, 'Progressive Disease': 3, 'Complete Remission/Response': 4, 'Stable Disease': 5}\n",
            "4 ['WITH TUMOR' 'TUMOR FREE' 0 1] {'WITH TUMOR': 1, 'TUMOR FREE': 2, 0: 3, 1: 4}\n",
            "3 ['NO' 'YES' 0] {'NO': 1, 'YES': 2, 0: 3}\n",
            "5 [0 'Progressive Disease' 'Complete Remission/Response' 'Stable Disease' 1] {0: 1, 'Progressive Disease': 2, 'Complete Remission/Response': 3, 'Stable Disease': 4, 1: 5}\n"
          ],
          "name": "stdout"
        },
        {
          "output_type": "execute_result",
          "data": {
            "text/html": [
              "<div>\n",
              "<style scoped>\n",
              "    .dataframe tbody tr th:only-of-type {\n",
              "        vertical-align: middle;\n",
              "    }\n",
              "\n",
              "    .dataframe tbody tr th {\n",
              "        vertical-align: top;\n",
              "    }\n",
              "\n",
              "    .dataframe thead th {\n",
              "        text-align: right;\n",
              "    }\n",
              "</style>\n",
              "<table border=\"1\" class=\"dataframe\">\n",
              "  <thead>\n",
              "    <tr style=\"text-align: right;\">\n",
              "      <th></th>\n",
              "      <th>radiation_therapy_started_days_to</th>\n",
              "      <th>tumor_grade</th>\n",
              "      <th>laterality</th>\n",
              "      <th>prospective_collection</th>\n",
              "      <th>gender</th>\n",
              "      <th>race</th>\n",
              "      <th>ethnicity</th>\n",
              "      <th>history_other_malignancy</th>\n",
              "      <th>history_neoadjuvant_treatment</th>\n",
              "      <th>lymph_nodes_examined_count</th>\n",
              "      <th>...</th>\n",
              "      <th>route_of_administration</th>\n",
              "      <th>therapy_regimen_drug</th>\n",
              "      <th>treatment_outcome_first_course</th>\n",
              "      <th>tumor_status_followup</th>\n",
              "      <th>death_days_to</th>\n",
              "      <th>new_tumor_event_dx_days_to</th>\n",
              "      <th>new_tumor_event_surgery_met</th>\n",
              "      <th>treatment_outcome_at_tcga_followup</th>\n",
              "      <th>radiation_total_dose</th>\n",
              "      <th>radiation_adjuvant_fractions_total</th>\n",
              "    </tr>\n",
              "  </thead>\n",
              "  <tbody>\n",
              "    <tr>\n",
              "      <td>0</td>\n",
              "      <td>263</td>\n",
              "      <td>1</td>\n",
              "      <td>1</td>\n",
              "      <td>1</td>\n",
              "      <td>1</td>\n",
              "      <td>1</td>\n",
              "      <td>1</td>\n",
              "      <td>1</td>\n",
              "      <td>1</td>\n",
              "      <td>10</td>\n",
              "      <td>...</td>\n",
              "      <td>1</td>\n",
              "      <td>1</td>\n",
              "      <td>1</td>\n",
              "      <td>1</td>\n",
              "      <td>344</td>\n",
              "      <td>13</td>\n",
              "      <td>1</td>\n",
              "      <td>1</td>\n",
              "      <td>3000</td>\n",
              "      <td>5</td>\n",
              "    </tr>\n",
              "    <tr>\n",
              "      <td>1</td>\n",
              "      <td>271</td>\n",
              "      <td>1</td>\n",
              "      <td>1</td>\n",
              "      <td>1</td>\n",
              "      <td>1</td>\n",
              "      <td>1</td>\n",
              "      <td>1</td>\n",
              "      <td>1</td>\n",
              "      <td>1</td>\n",
              "      <td>10</td>\n",
              "      <td>...</td>\n",
              "      <td>1</td>\n",
              "      <td>1</td>\n",
              "      <td>1</td>\n",
              "      <td>1</td>\n",
              "      <td>344</td>\n",
              "      <td>13</td>\n",
              "      <td>1</td>\n",
              "      <td>1</td>\n",
              "      <td>3000</td>\n",
              "      <td>5</td>\n",
              "    </tr>\n",
              "    <tr>\n",
              "      <td>2</td>\n",
              "      <td>61</td>\n",
              "      <td>1</td>\n",
              "      <td>1</td>\n",
              "      <td>1</td>\n",
              "      <td>1</td>\n",
              "      <td>1</td>\n",
              "      <td>1</td>\n",
              "      <td>1</td>\n",
              "      <td>1</td>\n",
              "      <td>10</td>\n",
              "      <td>...</td>\n",
              "      <td>1</td>\n",
              "      <td>1</td>\n",
              "      <td>1</td>\n",
              "      <td>1</td>\n",
              "      <td>344</td>\n",
              "      <td>13</td>\n",
              "      <td>1</td>\n",
              "      <td>1</td>\n",
              "      <td>3000</td>\n",
              "      <td>10</td>\n",
              "    </tr>\n",
              "    <tr>\n",
              "      <td>3</td>\n",
              "      <td>263</td>\n",
              "      <td>1</td>\n",
              "      <td>1</td>\n",
              "      <td>1</td>\n",
              "      <td>1</td>\n",
              "      <td>1</td>\n",
              "      <td>1</td>\n",
              "      <td>1</td>\n",
              "      <td>1</td>\n",
              "      <td>10</td>\n",
              "      <td>...</td>\n",
              "      <td>1</td>\n",
              "      <td>1</td>\n",
              "      <td>1</td>\n",
              "      <td>1</td>\n",
              "      <td>344</td>\n",
              "      <td>243</td>\n",
              "      <td>1</td>\n",
              "      <td>1</td>\n",
              "      <td>3000</td>\n",
              "      <td>5</td>\n",
              "    </tr>\n",
              "    <tr>\n",
              "      <td>4</td>\n",
              "      <td>271</td>\n",
              "      <td>1</td>\n",
              "      <td>1</td>\n",
              "      <td>1</td>\n",
              "      <td>1</td>\n",
              "      <td>1</td>\n",
              "      <td>1</td>\n",
              "      <td>1</td>\n",
              "      <td>1</td>\n",
              "      <td>10</td>\n",
              "      <td>...</td>\n",
              "      <td>1</td>\n",
              "      <td>1</td>\n",
              "      <td>1</td>\n",
              "      <td>1</td>\n",
              "      <td>344</td>\n",
              "      <td>243</td>\n",
              "      <td>1</td>\n",
              "      <td>1</td>\n",
              "      <td>3000</td>\n",
              "      <td>5</td>\n",
              "    </tr>\n",
              "    <tr>\n",
              "      <td>5</td>\n",
              "      <td>61</td>\n",
              "      <td>1</td>\n",
              "      <td>1</td>\n",
              "      <td>1</td>\n",
              "      <td>1</td>\n",
              "      <td>1</td>\n",
              "      <td>1</td>\n",
              "      <td>1</td>\n",
              "      <td>1</td>\n",
              "      <td>10</td>\n",
              "      <td>...</td>\n",
              "      <td>1</td>\n",
              "      <td>1</td>\n",
              "      <td>1</td>\n",
              "      <td>1</td>\n",
              "      <td>344</td>\n",
              "      <td>243</td>\n",
              "      <td>1</td>\n",
              "      <td>1</td>\n",
              "      <td>3000</td>\n",
              "      <td>10</td>\n",
              "    </tr>\n",
              "    <tr>\n",
              "      <td>6</td>\n",
              "      <td>263</td>\n",
              "      <td>1</td>\n",
              "      <td>1</td>\n",
              "      <td>1</td>\n",
              "      <td>1</td>\n",
              "      <td>1</td>\n",
              "      <td>1</td>\n",
              "      <td>1</td>\n",
              "      <td>1</td>\n",
              "      <td>10</td>\n",
              "      <td>...</td>\n",
              "      <td>1</td>\n",
              "      <td>1</td>\n",
              "      <td>1</td>\n",
              "      <td>1</td>\n",
              "      <td>344</td>\n",
              "      <td>265</td>\n",
              "      <td>2</td>\n",
              "      <td>1</td>\n",
              "      <td>3000</td>\n",
              "      <td>5</td>\n",
              "    </tr>\n",
              "    <tr>\n",
              "      <td>7</td>\n",
              "      <td>271</td>\n",
              "      <td>1</td>\n",
              "      <td>1</td>\n",
              "      <td>1</td>\n",
              "      <td>1</td>\n",
              "      <td>1</td>\n",
              "      <td>1</td>\n",
              "      <td>1</td>\n",
              "      <td>1</td>\n",
              "      <td>10</td>\n",
              "      <td>...</td>\n",
              "      <td>1</td>\n",
              "      <td>1</td>\n",
              "      <td>1</td>\n",
              "      <td>1</td>\n",
              "      <td>344</td>\n",
              "      <td>265</td>\n",
              "      <td>2</td>\n",
              "      <td>1</td>\n",
              "      <td>3000</td>\n",
              "      <td>5</td>\n",
              "    </tr>\n",
              "    <tr>\n",
              "      <td>8</td>\n",
              "      <td>61</td>\n",
              "      <td>1</td>\n",
              "      <td>1</td>\n",
              "      <td>1</td>\n",
              "      <td>1</td>\n",
              "      <td>1</td>\n",
              "      <td>1</td>\n",
              "      <td>1</td>\n",
              "      <td>1</td>\n",
              "      <td>10</td>\n",
              "      <td>...</td>\n",
              "      <td>1</td>\n",
              "      <td>1</td>\n",
              "      <td>1</td>\n",
              "      <td>1</td>\n",
              "      <td>344</td>\n",
              "      <td>265</td>\n",
              "      <td>2</td>\n",
              "      <td>1</td>\n",
              "      <td>3000</td>\n",
              "      <td>10</td>\n",
              "    </tr>\n",
              "    <tr>\n",
              "      <td>9</td>\n",
              "      <td>481</td>\n",
              "      <td>2</td>\n",
              "      <td>1</td>\n",
              "      <td>1</td>\n",
              "      <td>1</td>\n",
              "      <td>1</td>\n",
              "      <td>1</td>\n",
              "      <td>1</td>\n",
              "      <td>1</td>\n",
              "      <td>2</td>\n",
              "      <td>...</td>\n",
              "      <td>2</td>\n",
              "      <td>2</td>\n",
              "      <td>1</td>\n",
              "      <td>1</td>\n",
              "      <td>0</td>\n",
              "      <td>359</td>\n",
              "      <td>2</td>\n",
              "      <td>1</td>\n",
              "      <td>3250</td>\n",
              "      <td>0</td>\n",
              "    </tr>\n",
              "  </tbody>\n",
              "</table>\n",
              "<p>10 rows × 39 columns</p>\n",
              "</div>"
            ],
            "text/plain": [
              "   radiation_therapy_started_days_to  tumor_grade  laterality  \\\n",
              "0                                263            1           1   \n",
              "1                                271            1           1   \n",
              "2                                 61            1           1   \n",
              "3                                263            1           1   \n",
              "4                                271            1           1   \n",
              "5                                 61            1           1   \n",
              "6                                263            1           1   \n",
              "7                                271            1           1   \n",
              "8                                 61            1           1   \n",
              "9                                481            2           1   \n",
              "\n",
              "   prospective_collection  gender  race  ethnicity  history_other_malignancy  \\\n",
              "0                       1       1     1          1                         1   \n",
              "1                       1       1     1          1                         1   \n",
              "2                       1       1     1          1                         1   \n",
              "3                       1       1     1          1                         1   \n",
              "4                       1       1     1          1                         1   \n",
              "5                       1       1     1          1                         1   \n",
              "6                       1       1     1          1                         1   \n",
              "7                       1       1     1          1                         1   \n",
              "8                       1       1     1          1                         1   \n",
              "9                       1       1     1          1                         1   \n",
              "\n",
              "   history_neoadjuvant_treatment  lymph_nodes_examined_count  ...  \\\n",
              "0                              1                          10  ...   \n",
              "1                              1                          10  ...   \n",
              "2                              1                          10  ...   \n",
              "3                              1                          10  ...   \n",
              "4                              1                          10  ...   \n",
              "5                              1                          10  ...   \n",
              "6                              1                          10  ...   \n",
              "7                              1                          10  ...   \n",
              "8                              1                          10  ...   \n",
              "9                              1                           2  ...   \n",
              "\n",
              "   route_of_administration  therapy_regimen_drug  \\\n",
              "0                        1                     1   \n",
              "1                        1                     1   \n",
              "2                        1                     1   \n",
              "3                        1                     1   \n",
              "4                        1                     1   \n",
              "5                        1                     1   \n",
              "6                        1                     1   \n",
              "7                        1                     1   \n",
              "8                        1                     1   \n",
              "9                        2                     2   \n",
              "\n",
              "   treatment_outcome_first_course  tumor_status_followup  death_days_to  \\\n",
              "0                               1                      1            344   \n",
              "1                               1                      1            344   \n",
              "2                               1                      1            344   \n",
              "3                               1                      1            344   \n",
              "4                               1                      1            344   \n",
              "5                               1                      1            344   \n",
              "6                               1                      1            344   \n",
              "7                               1                      1            344   \n",
              "8                               1                      1            344   \n",
              "9                               1                      1              0   \n",
              "\n",
              "   new_tumor_event_dx_days_to  new_tumor_event_surgery_met  \\\n",
              "0                          13                            1   \n",
              "1                          13                            1   \n",
              "2                          13                            1   \n",
              "3                         243                            1   \n",
              "4                         243                            1   \n",
              "5                         243                            1   \n",
              "6                         265                            2   \n",
              "7                         265                            2   \n",
              "8                         265                            2   \n",
              "9                         359                            2   \n",
              "\n",
              "   treatment_outcome_at_tcga_followup  radiation_total_dose  \\\n",
              "0                                   1                  3000   \n",
              "1                                   1                  3000   \n",
              "2                                   1                  3000   \n",
              "3                                   1                  3000   \n",
              "4                                   1                  3000   \n",
              "5                                   1                  3000   \n",
              "6                                   1                  3000   \n",
              "7                                   1                  3000   \n",
              "8                                   1                  3000   \n",
              "9                                   1                  3250   \n",
              "\n",
              "   radiation_adjuvant_fractions_total  \n",
              "0                                   5  \n",
              "1                                   5  \n",
              "2                                  10  \n",
              "3                                   5  \n",
              "4                                   5  \n",
              "5                                  10  \n",
              "6                                   5  \n",
              "7                                   5  \n",
              "8                                  10  \n",
              "9                                   0  \n",
              "\n",
              "[10 rows x 39 columns]"
            ]
          },
          "metadata": {
            "tags": []
          },
          "execution_count": 114
        }
      ]
    },
    {
      "cell_type": "code",
      "metadata": {
        "id": "cBcy3tWQbYz_",
        "colab_type": "code",
        "colab": {},
        "outputId": "b2f7e195-1377-4a3c-dfed-f5e72f4b0c73"
      },
      "source": [
        "df[\"lymph_nodes_examined_count\"].unique()"
      ],
      "execution_count": 0,
      "outputs": [
        {
          "output_type": "execute_result",
          "data": {
            "text/plain": [
              "array([10,  2,  0, 17,  1,  9,  5, 16, 14,  4, 19,  3, 21,  6, 11,  8,  7,\n",
              "       13, 15, 25], dtype=int64)"
            ]
          },
          "metadata": {
            "tags": []
          },
          "execution_count": 115
        }
      ]
    },
    {
      "cell_type": "code",
      "metadata": {
        "id": "LjVt_Nu4bY0E",
        "colab_type": "code",
        "colab": {}
      },
      "source": [
        "y=df['tumor_grade']\n",
        "df.drop('tumor_grade',axis=1,inplace=True)"
      ],
      "execution_count": 0,
      "outputs": []
    },
    {
      "cell_type": "code",
      "metadata": {
        "id": "QESnxaewbY0O",
        "colab_type": "code",
        "colab": {},
        "outputId": "a4dfcbcc-c7d9-478a-b11c-9dbb289b62d2"
      },
      "source": [
        "from sklearn.model_selection import train_test_split\n",
        "from sklearn.preprocessing import StandardScaler\n",
        "X_train,X_test,y_train,y_test=train_test_split(df,y,random_state=42,test_size=0.2)\n",
        "for column in [\"lymph_nodes_examined_count\",\"radiation_adjuvant_fractions_total\",\"death_days_to\",\"radiation_therapy_started_days_to\",\"new_tumor_event_dx_days_to\",\"radiation_total_dose\",\"regimen_number\"]:\n",
        "  X_train[column]=np.log(np.absolute(X_train[column])+1)\n",
        "  X_test[column]=np.log(np.absolute(X_test[column])+1)"
      ],
      "execution_count": 0,
      "outputs": [
        {
          "output_type": "stream",
          "text": [
            "D:\\Anaconda\\lib\\site-packages\\ipykernel_launcher.py:5: SettingWithCopyWarning: \n",
            "A value is trying to be set on a copy of a slice from a DataFrame.\n",
            "Try using .loc[row_indexer,col_indexer] = value instead\n",
            "\n",
            "See the caveats in the documentation: http://pandas.pydata.org/pandas-docs/stable/user_guide/indexing.html#returning-a-view-versus-a-copy\n",
            "  \"\"\"\n",
            "D:\\Anaconda\\lib\\site-packages\\ipykernel_launcher.py:6: SettingWithCopyWarning: \n",
            "A value is trying to be set on a copy of a slice from a DataFrame.\n",
            "Try using .loc[row_indexer,col_indexer] = value instead\n",
            "\n",
            "See the caveats in the documentation: http://pandas.pydata.org/pandas-docs/stable/user_guide/indexing.html#returning-a-view-versus-a-copy\n",
            "  \n"
          ],
          "name": "stderr"
        }
      ]
    },
    {
      "cell_type": "code",
      "metadata": {
        "id": "uQpx2h3ebY0T",
        "colab_type": "code",
        "colab": {},
        "outputId": "d6676327-3281-4ce4-a41a-7ec949ff0c17"
      },
      "source": [
        "from sklearn.model_selection import cross_val_score\n",
        "from sklearn.neighbors import KNeighborsClassifier\n",
        "from sklearn import svm\n",
        "knn=KNeighborsClassifier(n_neighbors=5)\n",
        "clf = svm.SVC(kernel='linear', C=4)\n",
        "scores = cross_val_score(knn, X_train, y_train, cv=5)\n",
        "print(scores)"
      ],
      "execution_count": 0,
      "outputs": [
        {
          "output_type": "stream",
          "text": [
            "[0.56626506 0.59259259 0.6        0.7125     0.56962025]\n"
          ],
          "name": "stdout"
        },
        {
          "output_type": "stream",
          "text": [
            "D:\\Anaconda\\lib\\site-packages\\sklearn\\model_selection\\_split.py:657: Warning: The least populated class in y has only 1 members, which is too few. The minimum number of members in any class cannot be less than n_splits=5.\n",
            "  % (min_groups, self.n_splits)), Warning)\n"
          ],
          "name": "stderr"
        }
      ]
    },
    {
      "cell_type": "code",
      "metadata": {
        "id": "AvAq6RmabY0X",
        "colab_type": "code",
        "colab": {},
        "outputId": "9ae8b453-62f5-4c6e-9cb1-a97d1802e51a"
      },
      "source": [
        "knn.fit(X_train,y_train)\n",
        "y_pred=knn.predict(X_test)\n",
        "from sklearn.metrics import accuracy_score\n",
        "print(accuracy_score(y_test,y_pred))#Accuracy score of Using K Nearest Neighbours"
      ],
      "execution_count": 0,
      "outputs": [
        {
          "output_type": "stream",
          "text": [
            "0.594059405940594\n"
          ],
          "name": "stdout"
        }
      ]
    },
    {
      "cell_type": "code",
      "metadata": {
        "id": "kZT-yIj1bY0e",
        "colab_type": "code",
        "colab": {},
        "outputId": "12c50750-2c1b-4444-d89b-ed5909d0e8a1"
      },
      "source": [
        "scores = cross_val_score(clf, X_train, y_train,cv=5)\n",
        "print(scores)\n",
        "clf.fit(X_train,y_train)\n",
        "y_pred=clf.predict(X_test)\n",
        "print(accuracy_score(y_test,y_pred))#Accuracy score for Using SVM"
      ],
      "execution_count": 0,
      "outputs": [
        {
          "output_type": "stream",
          "text": [
            "D:\\Anaconda\\lib\\site-packages\\sklearn\\model_selection\\_split.py:657: Warning: The least populated class in y has only 1 members, which is too few. The minimum number of members in any class cannot be less than n_splits=5.\n",
            "  % (min_groups, self.n_splits)), Warning)\n"
          ],
          "name": "stderr"
        },
        {
          "output_type": "stream",
          "text": [
            "[0.63855422 0.71604938 0.775      0.7375     0.65822785]\n",
            "0.7128712871287128\n"
          ],
          "name": "stdout"
        }
      ]
    },
    {
      "cell_type": "code",
      "metadata": {
        "id": "MZb0vyHKbY0k",
        "colab_type": "code",
        "colab": {},
        "outputId": "a1cc1b53-5639-4204-d8fa-a2ee30a41e37"
      },
      "source": [
        "from sklearn.tree import DecisionTreeClassifier\n",
        "dtc=DecisionTreeClassifier()\n",
        "scores = cross_val_score(dtc, X_train, y_train, cv=3)\n",
        "print(scores)"
      ],
      "execution_count": 0,
      "outputs": [
        {
          "output_type": "stream",
          "text": [
            "[0.64963504 0.69172932 0.72180451]\n"
          ],
          "name": "stdout"
        },
        {
          "output_type": "stream",
          "text": [
            "D:\\Anaconda\\lib\\site-packages\\sklearn\\model_selection\\_split.py:657: Warning: The least populated class in y has only 1 members, which is too few. The minimum number of members in any class cannot be less than n_splits=3.\n",
            "  % (min_groups, self.n_splits)), Warning)\n"
          ],
          "name": "stderr"
        }
      ]
    },
    {
      "cell_type": "code",
      "metadata": {
        "id": "zen09Z-YbY0o",
        "colab_type": "code",
        "colab": {},
        "outputId": "e1dc23ab-aac3-4edf-a64a-eee0b86a13f4"
      },
      "source": [
        "dtc.fit(X_train,y_train)\n",
        "y_pred=dtc.predict(X_test)\n",
        "from sklearn.metrics import accuracy_score\n",
        "print(accuracy_score(y_test,y_pred))"
      ],
      "execution_count": 0,
      "outputs": [
        {
          "output_type": "stream",
          "text": [
            "0.7524752475247525\n"
          ],
          "name": "stdout"
        }
      ]
    },
    {
      "cell_type": "code",
      "metadata": {
        "id": "aJ2ydzM7bY0u",
        "colab_type": "code",
        "colab": {},
        "outputId": "c019e34f-a42e-400f-dea3-2579a2e75724"
      },
      "source": [
        "from sklearn.ensemble import RandomForestClassifier\n",
        "rfc= RandomForestClassifier(max_depth=5)\n",
        "scores = cross_val_score(rfc, X_train, y_train, cv=3)\n",
        "print(scores)"
      ],
      "execution_count": 0,
      "outputs": [
        {
          "output_type": "stream",
          "text": [
            "D:\\Anaconda\\lib\\site-packages\\sklearn\\model_selection\\_split.py:657: Warning: The least populated class in y has only 1 members, which is too few. The minimum number of members in any class cannot be less than n_splits=3.\n",
            "  % (min_groups, self.n_splits)), Warning)\n"
          ],
          "name": "stderr"
        },
        {
          "output_type": "stream",
          "text": [
            "[0.68613139 0.65413534 0.69924812]\n"
          ],
          "name": "stdout"
        },
        {
          "output_type": "stream",
          "text": [
            "D:\\Anaconda\\lib\\site-packages\\sklearn\\ensemble\\forest.py:245: FutureWarning: The default value of n_estimators will change from 10 in version 0.20 to 100 in 0.22.\n",
            "  \"10 in version 0.20 to 100 in 0.22.\", FutureWarning)\n",
            "D:\\Anaconda\\lib\\site-packages\\sklearn\\ensemble\\forest.py:245: FutureWarning: The default value of n_estimators will change from 10 in version 0.20 to 100 in 0.22.\n",
            "  \"10 in version 0.20 to 100 in 0.22.\", FutureWarning)\n",
            "D:\\Anaconda\\lib\\site-packages\\sklearn\\ensemble\\forest.py:245: FutureWarning: The default value of n_estimators will change from 10 in version 0.20 to 100 in 0.22.\n",
            "  \"10 in version 0.20 to 100 in 0.22.\", FutureWarning)\n"
          ],
          "name": "stderr"
        }
      ]
    },
    {
      "cell_type": "code",
      "metadata": {
        "id": "EXyZQAZHbY0y",
        "colab_type": "code",
        "colab": {},
        "outputId": "2939cdce-bb0f-4559-f914-1c02653ca4d6"
      },
      "source": [
        "rfc.fit(X_train,y_train)\n",
        "y_pred=dtc.predict(X_test)\n",
        "from sklearn.metrics import accuracy_score\n",
        "print(accuracy_score(y_test,y_pred))"
      ],
      "execution_count": 0,
      "outputs": [
        {
          "output_type": "stream",
          "text": [
            "0.7524752475247525\n"
          ],
          "name": "stdout"
        },
        {
          "output_type": "stream",
          "text": [
            "D:\\Anaconda\\lib\\site-packages\\sklearn\\ensemble\\forest.py:245: FutureWarning: The default value of n_estimators will change from 10 in version 0.20 to 100 in 0.22.\n",
            "  \"10 in version 0.20 to 100 in 0.22.\", FutureWarning)\n"
          ],
          "name": "stderr"
        }
      ]
    },
    {
      "cell_type": "code",
      "metadata": {
        "id": "UhfZ0o6fbY02",
        "colab_type": "code",
        "colab": {},
        "outputId": "d56a62fb-9127-4e64-d8f5-00c523faff25"
      },
      "source": [
        "from sklearn.ensemble import GradientBoostingClassifier\n",
        "\n",
        "gbc=GradientBoostingClassifier(n_estimators=200,max_depth=4,verbose=True)\n",
        "cross_val_score(gbc,X_train,y_train,cv=3)"
      ],
      "execution_count": 0,
      "outputs": [
        {
          "output_type": "stream",
          "text": [
            "D:\\Anaconda\\lib\\site-packages\\sklearn\\model_selection\\_split.py:657: Warning: The least populated class in y has only 1 members, which is too few. The minimum number of members in any class cannot be less than n_splits=3.\n",
            "  % (min_groups, self.n_splits)), Warning)\n"
          ],
          "name": "stderr"
        },
        {
          "output_type": "stream",
          "text": [
            "      Iter       Train Loss   Remaining Time \n",
            "         1         261.9452            0.80s\n",
            "         2         238.8024            1.22s\n",
            "         3         217.9153            1.18s\n",
            "         4         200.3745            1.22s\n",
            "         5         185.5232            1.17s\n",
            "         6         173.2195            1.25s\n",
            "         7         162.0010            1.37s\n",
            "         8         152.5328            1.33s\n",
            "         9         142.9792            1.41s\n",
            "        10         135.0203            1.41s\n",
            "        20          88.0868            1.22s\n",
            "        30          63.1058            1.27s\n",
            "        40          48.7158            1.18s\n",
            "        50          40.2793            1.06s\n",
            "        60          33.9808            1.01s\n",
            "        70          28.6192            0.93s\n",
            "        80          24.1087            0.85s\n",
            "        90          19.7833            0.78s\n",
            "       100          16.2205            0.71s\n",
            "       200           3.5473            0.00s\n",
            "      Iter       Train Loss   Remaining Time \n",
            "         1         262.4582            3.07s\n",
            "         2         236.2937            2.32s\n",
            "         3         214.7244            2.06s\n",
            "         4         196.6985            1.93s\n",
            "         5         182.0125            2.01s\n",
            "         6         169.0695            1.92s\n",
            "         7         158.2465            1.86s\n",
            "         8         148.8249            1.91s\n",
            "         9         140.8688            1.86s\n",
            "        10         132.9465            1.84s\n",
            "        20          86.8084            1.49s\n",
            "        30          61.3542            1.44s\n",
            "        40          47.0562            1.32s\n",
            "        50          38.9762            1.21s\n",
            "        60          30.8202            1.12s\n",
            "        70          25.7408            1.03s\n",
            "        80          22.1144            0.94s\n",
            "        90          18.2211            0.86s\n",
            "       100          15.7940            0.78s\n",
            "       200           7.0026            0.00s\n",
            "      Iter       Train Loss   Remaining Time \n",
            "         1         262.9753            2.42s\n",
            "         2         236.7675            1.40s\n",
            "         3         215.5832            1.96s\n",
            "         4         198.5061            1.51s\n",
            "         5         183.9070            1.85s\n",
            "         6         171.5584            1.81s\n",
            "         7         160.6575            1.57s\n",
            "         8         150.8240            1.78s\n",
            "         9         141.4479            1.57s\n",
            "        10         133.8526            1.71s\n",
            "        20          90.8652            1.56s\n",
            "        30          66.6345            1.38s\n",
            "        40          51.0815            1.36s\n",
            "        50          39.7856            1.28s\n",
            "        60          31.1991            1.18s\n",
            "        70          25.2512            1.09s\n",
            "        80          20.5240            0.99s\n",
            "        90          17.1301            0.92s\n",
            "       100          14.2379            0.82s\n",
            "       200           3.7994            0.00s\n"
          ],
          "name": "stdout"
        },
        {
          "output_type": "execute_result",
          "data": {
            "text/plain": [
              "array([0.67153285, 0.76691729, 0.83458647])"
            ]
          },
          "metadata": {
            "tags": []
          },
          "execution_count": 125
        }
      ]
    },
    {
      "cell_type": "code",
      "metadata": {
        "id": "hgjRJl6qbY06",
        "colab_type": "code",
        "colab": {},
        "outputId": "ef40fa30-5047-4d8d-e7f2-c779a1dd876d"
      },
      "source": [
        "gbc.fit(X_train,y_train)"
      ],
      "execution_count": 0,
      "outputs": [
        {
          "output_type": "stream",
          "text": [
            "      Iter       Train Loss   Remaining Time \n",
            "         1         396.4595            2.20s\n",
            "         2         359.7084            1.80s\n",
            "         3         329.1067            1.70s\n",
            "         4         302.7300            1.78s\n",
            "         5         281.0608            1.89s\n",
            "         6         263.0719            2.00s\n",
            "         7         247.1793            1.93s\n",
            "         8         233.7181            1.96s\n",
            "         9         220.7229            2.02s\n",
            "        10         210.5224            1.83s\n",
            "        20         146.6938            1.81s\n",
            "        30         116.9604            1.68s\n",
            "        40          97.5680            1.58s\n",
            "        50          83.0594            1.44s\n",
            "        60          68.2042            1.34s\n",
            "        70          58.0932            1.23s\n",
            "        80          50.1350            1.14s\n",
            "        90          43.6434            1.03s\n",
            "       100          38.9025            0.94s\n",
            "       200          12.7220            0.00s\n"
          ],
          "name": "stdout"
        },
        {
          "output_type": "execute_result",
          "data": {
            "text/plain": [
              "GradientBoostingClassifier(criterion='friedman_mse', init=None,\n",
              "                           learning_rate=0.1, loss='deviance', max_depth=4,\n",
              "                           max_features=None, max_leaf_nodes=None,\n",
              "                           min_impurity_decrease=0.0, min_impurity_split=None,\n",
              "                           min_samples_leaf=1, min_samples_split=2,\n",
              "                           min_weight_fraction_leaf=0.0, n_estimators=200,\n",
              "                           n_iter_no_change=None, presort='auto',\n",
              "                           random_state=None, subsample=1.0, tol=0.0001,\n",
              "                           validation_fraction=0.1, verbose=True,\n",
              "                           warm_start=False)"
            ]
          },
          "metadata": {
            "tags": []
          },
          "execution_count": 126
        }
      ]
    },
    {
      "cell_type": "code",
      "metadata": {
        "scrolled": true,
        "id": "qhvR18CZbY1B",
        "colab_type": "code",
        "colab": {},
        "outputId": "eecc9e5d-7ed3-4f79-a4c4-15b23e300a10"
      },
      "source": [
        "y_pred=gbc.predict(X_test)\n",
        "from sklearn.metrics import accuracy_score\n",
        "print(accuracy_score(y_test,y_pred))"
      ],
      "execution_count": 0,
      "outputs": [
        {
          "output_type": "stream",
          "text": [
            "0.8118811881188119\n"
          ],
          "name": "stdout"
        }
      ]
    },
    {
      "cell_type": "code",
      "metadata": {
        "id": "6kjdmuFIbY1F",
        "colab_type": "code",
        "colab": {}
      },
      "source": [
        "#this section will have the result of 33 features"
      ],
      "execution_count": 0,
      "outputs": []
    },
    {
      "cell_type": "code",
      "metadata": {
        "id": "p7CE-BsBbY1J",
        "colab_type": "code",
        "colab": {},
        "outputId": "ae91e9ad-76aa-437d-bbce-f42917cd99f1"
      },
      "source": [
        "y.unique()"
      ],
      "execution_count": 0,
      "outputs": [
        {
          "output_type": "execute_result",
          "data": {
            "text/plain": [
              "array([1, 2, 3, 4], dtype=int64)"
            ]
          },
          "metadata": {
            "tags": []
          },
          "execution_count": 129
        }
      ]
    },
    {
      "cell_type": "code",
      "metadata": {
        "id": "UR8suAR9bY1O",
        "colab_type": "code",
        "colab": {}
      },
      "source": [
        ""
      ],
      "execution_count": 0,
      "outputs": []
    },
    {
      "cell_type": "code",
      "metadata": {
        "id": "NFxHg-cAbY1T",
        "colab_type": "code",
        "colab": {}
      },
      "source": [
        ""
      ],
      "execution_count": 0,
      "outputs": []
    },
    {
      "cell_type": "code",
      "metadata": {
        "id": "Fr9IRFSubY1X",
        "colab_type": "code",
        "colab": {}
      },
      "source": [
        ""
      ],
      "execution_count": 0,
      "outputs": []
    },
    {
      "cell_type": "code",
      "metadata": {
        "id": "p4Qamaw3bY1a",
        "colab_type": "code",
        "colab": {}
      },
      "source": [
        ""
      ],
      "execution_count": 0,
      "outputs": []
    },
    {
      "cell_type": "code",
      "metadata": {
        "id": "vrwAorTtbY1f",
        "colab_type": "code",
        "colab": {}
      },
      "source": [
        ""
      ],
      "execution_count": 0,
      "outputs": []
    },
    {
      "cell_type": "code",
      "metadata": {
        "id": "BXQSsAYYbY1m",
        "colab_type": "code",
        "colab": {}
      },
      "source": [
        ""
      ],
      "execution_count": 0,
      "outputs": []
    },
    {
      "cell_type": "code",
      "metadata": {
        "id": "Z44wJ_kTbY1p",
        "colab_type": "code",
        "colab": {}
      },
      "source": [
        ""
      ],
      "execution_count": 0,
      "outputs": []
    },
    {
      "cell_type": "code",
      "metadata": {
        "id": "TUFidKe-bY1t",
        "colab_type": "code",
        "colab": {}
      },
      "source": [
        ""
      ],
      "execution_count": 0,
      "outputs": []
    },
    {
      "cell_type": "code",
      "metadata": {
        "id": "VNewz9YYbY1x",
        "colab_type": "code",
        "colab": {}
      },
      "source": [
        ""
      ],
      "execution_count": 0,
      "outputs": []
    }
  ]
}