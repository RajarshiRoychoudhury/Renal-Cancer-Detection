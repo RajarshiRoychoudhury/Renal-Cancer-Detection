{
  "nbformat": 4,
  "nbformat_minor": 0,
  "metadata": {
    "kernelspec": {
      "display_name": "Python 3",
      "language": "python",
      "name": "python3"
    },
    "language_info": {
      "codemirror_mode": {
        "name": "ipython",
        "version": 3
      },
      "file_extension": ".py",
      "mimetype": "text/x-python",
      "name": "python",
      "nbconvert_exporter": "python",
      "pygments_lexer": "ipython3",
      "version": "3.7.4"
    },
    "colab": {
      "name": "cancer_train_final_33.ipynb",
      "provenance": []
    }
  },
  "cells": [
    {
      "cell_type": "code",
      "metadata": {
        "id": "AuTCirJSbWup",
        "colab_type": "code",
        "colab": {}
      },
      "source": [
        "import pandas as pd\n",
        "import numpy as np\n",
        "import matplotlib.pyplot as plt"
      ],
      "execution_count": 0,
      "outputs": []
    },
    {
      "cell_type": "code",
      "metadata": {
        "id": "JpLe7I0HbWuy",
        "colab_type": "code",
        "colab": {}
      },
      "source": [
        "#this section will be on the 28 features excel file"
      ],
      "execution_count": 0,
      "outputs": []
    },
    {
      "cell_type": "code",
      "metadata": {
        "id": "nIC92JVQbWu7",
        "colab_type": "code",
        "colab": {}
      },
      "source": [
        "df=pd.read_excel(\"33 Features.xlsx\")\n",
        "#df.head(5)"
      ],
      "execution_count": 0,
      "outputs": []
    },
    {
      "cell_type": "code",
      "metadata": {
        "id": "D_TOODEqbWvA",
        "colab_type": "code",
        "colab": {}
      },
      "source": [
        "#df.columns"
      ],
      "execution_count": 0,
      "outputs": []
    },
    {
      "cell_type": "code",
      "metadata": {
        "id": "aOXHIXCYbWvJ",
        "colab_type": "code",
        "colab": {}
      },
      "source": [
        "#df['tumor_grade'].unique()"
      ],
      "execution_count": 0,
      "outputs": []
    },
    {
      "cell_type": "code",
      "metadata": {
        "id": "JzNCl_SybWvP",
        "colab_type": "code",
        "colab": {}
      },
      "source": [
        "#df.isnull().sum()"
      ],
      "execution_count": 0,
      "outputs": []
    },
    {
      "cell_type": "code",
      "metadata": {
        "id": "f6SXxaFNbWvY",
        "colab_type": "code",
        "colab": {}
      },
      "source": [
        "#for i in df.columns:\n",
        "  #print(str(i)+\"--->\",df[i].unique())\n"
      ],
      "execution_count": 0,
      "outputs": []
    },
    {
      "cell_type": "code",
      "metadata": {
        "id": "RxIAn4z4bWvg",
        "colab_type": "code",
        "colab": {}
      },
      "source": [
        "df.replace({'[not]':0,'[Unknown]':1,'[not ]':0,\"Yes, History of Synchronous/Bilateral Malignancy\":'Yes','Yes, History of Prior Malignancy':'Yes'},inplace=True)"
      ],
      "execution_count": 0,
      "outputs": []
    },
    {
      "cell_type": "code",
      "metadata": {
        "id": "YLJjSqG9bWvo",
        "colab_type": "code",
        "colab": {},
        "outputId": "0aeccfd5-1e02-44e1-b6d6-5504eeeeace9"
      },
      "source": [
        "for i in df.columns:\n",
        "  print(str(i)+\"--->\",df[i].unique())\n"
      ],
      "execution_count": 0,
      "outputs": [
        {
          "output_type": "stream",
          "text": [
            "gender---> ['FEMALE' 'MALE']\n",
            "history_neoadjuvant_treatment---> ['No' 'Yes']\n",
            "ajcc_nodes_pathologic_pn---> ['N0' 'NX' 'N1']\n",
            "treatment_outcome_first_course---> [0 'Partial Remission/Response' 'Progressive Disease'\n",
            " 'Complete Remission/Response' 'Stable Disease']\n",
            "lymph_nodes_examined_positive---> [0 2 1]\n",
            "ajcc_pathologic_tumor_stage---> ['Stage IV' 'Stage III' 'Stage I' 'Stage II']\n",
            "new_tumor_event_surgery_met---> ['NO' 'YES' 0]\n",
            "therapy_regimen_drug---> ['PALLIATIVE' 0 'PROGRESSION' 'OTHER, SPECIFY IN NOTES' 'ADJUVANT'\n",
            " 'RECURRENCE']\n",
            "laterality---> ['Right' 'Left']\n",
            "platelet_count---> ['Normal' 'Low' 0 'Elevated']\n",
            "lymph_nodes_examined_count---> [10  2  0 17  1  9  5 16 14  4 19  3 21  6 11  8  7 13 15 25]\n",
            "tumor_status_followup---> ['WITH TUMOR' 'TUMOR FREE' 0 1]\n",
            "pharmaceutical_tx_ongoing_indicator---> ['NO' 0 'YES']\n",
            "ajcc_tumor_pathologic_pt---> ['T3b' 'T3a' 'T1b' 'T1a' 'T2' 'T2a' 'T4' 'T1' 'T2b' 'T3c']\n",
            "ajcc_metastasis_pathologic_pm---> ['M1' 'M0' 'MX']\n",
            "vital_status_followup---> ['Dead' 'Alive' 0]\n",
            "serum_calcium_level---> ['Normal' 'Low' 'Elevated' 0]\n",
            "tissue_source_site---> ['BP' 'B0' 'CJ' 'DV' 'CW' 'CZ' 'B8' 'G6']\n",
            "ecog_score_final---> [0 1 2 3]\n",
            "white_cell_count---> ['Elevated' 'Normal' 0 'Low']\n",
            "tumor_grade---> ['G4' 'G2' 'G3' 'G1']\n",
            "tumor_status_patient---> ['WITH TUMOR' 'TUMOR FREE' 0]\n",
            "pharmaceutical_therapy_drug_name---> ['Sunitinib' 0 'xeloda' 'Sutent (Sunitinib)' 'Sorafenib - Nexavar'\n",
            " 'Bevacizumab' 'Temsirolimus' 'proleukin (IL-2)' 'Gemcitabine' 'Avastin'\n",
            " 'Sutent' 'Axitnib' 'Oncophage' 'Sorafenib' 'Interferon' 'IL-2'\n",
            " 'gemcitabine' 'RAD001' 'avastin' 'Tarceva' 'Axitinib' 'thalidomide'\n",
            " 'interferon-alpha' 'Xeloda' 'Pazopanib' 'Afinitor' 'Iressa' 'Zometa'\n",
            " 'Interleukin-2' 'Everolimus' 'oncophage vaccine' 'Bay-439006' 'sorafenib'\n",
            " 'sunitinib' 'Bortezomib' 'AZD' 'Intron A' 'nab-rapamycin' 'Roferon-A'\n",
            " 'IFN-Alpha (Intron)' 'interleukin-2' 'Gemzar'\n",
            " 'IL-2 Therapy (interleukin)' 'Gefitinib' 'Alpha Interferon' 'Nexavar'\n",
            " 'Interleukin 2-high dose' 'IL-2 (high dose)' 'sutent (sunitinib)'\n",
            " 'ZD6474']\n",
            "race---> ['WHITE' 'BLACK OR AFRICAN AMERICAN' 0 'ASIAN']\n",
            "death_days_to---> [ 344    0 1625  563  446  822 1317  320  572   93  313  164  552 1714\n",
            "  701  679 1343  166  162  224 2454  480 1337 1639 3615 1092  362  768\n",
            "  571  206 1912 1493   42  770 2299  139  561 2227 1463  574 2343   59\n",
            " 1964  202 1230  727 1590  828   69  878 1075  587 1200  992   41  485\n",
            " 2256  329   62  932 1661 1986  841  819  782 1432 1034  709  311 1270\n",
            " 2386  645 1133 1598  475  953 2190 1626 2105  722 1173  445  375 1111\n",
            "  242]\n",
            "vital_status_followup.1---> ['Dead' 'Alive' 0]\n",
            "pharmaceutical_therapy_type---> ['Targeted Molecular therapy' 0 'Chemotherapy' 'Immunotherapy'\n",
            " 'Other, specify in notes']\n",
            "new_tumor_event_dx_days_to---> [  13  243  265  359  137    0 2008  634  781   25   33  304  102 1717\n",
            " 1727   17   78  595  110   23   75  144  259  441  725  -19  492  324\n",
            "  213  153 1457 2780  457 2041  396 1709  886  694  485 2003 1821 1876\n",
            "  330 1467 1530  399 3766    4  740  582  672  223  873 2004 1227   70\n",
            "   61  295 1270  903  240 1423  208  169  322 -359  900  748  158  288\n",
            "  736  188  990  685  442  352  357  278  160  454  299  604  597 1912\n",
            "  423  538  377]\n",
            "ethnicity---> ['NOT HISPANIC OR LATINO' 0 'HISPANIC OR LATINO']\n",
            "hemoglobin_level---> ['Low' 'Normal' 0 'Elevated']\n",
            "prospective_collection---> ['NO' 0 'YES']\n",
            "radiation_therapy_started_days_to---> [ 263  271   61  481  165    0  385  422   69  -72   21  603  227  298\n",
            "  153  457 1755 1787 1903 1174 2070 1534  119  748  994  234    6  685\n",
            "  702  324  477  600  483  169  301  729  842]\n",
            "history_other_malignancy---> ['No' 'Yes']\n"
          ],
          "name": "stdout"
        }
      ]
    },
    {
      "cell_type": "code",
      "metadata": {
        "id": "nGBYqR3TbWvv",
        "colab_type": "code",
        "colab": {},
        "outputId": "c92e0a79-3776-402f-9159-5954e1d7381b"
      },
      "source": [
        "for column in df.columns:\n",
        "  if column not in [\"lymph_nodes_examined_count\",\"death_days_to\",\"radiation_therapy_started_days_to\",\"new_tumor_event_dx_days_to\"] :\n",
        "    n=len(df[column].unique())\n",
        "    l=[1+i for i in range(n)]\n",
        "    map_dict={}\n",
        "    l2=df[column].unique()\n",
        "    for j in range(len(l2)):\n",
        "      map_dict[l2[j]]=l[j]\n",
        "    df[column].replace(map_dict,inplace=True)\n",
        "    print(n,l2,map_dict)\n",
        "df.head(10)"
      ],
      "execution_count": 0,
      "outputs": [
        {
          "output_type": "stream",
          "text": [
            "2 ['FEMALE' 'MALE'] {'FEMALE': 1, 'MALE': 2}\n",
            "2 ['No' 'Yes'] {'No': 1, 'Yes': 2}\n",
            "3 ['N0' 'NX' 'N1'] {'N0': 1, 'NX': 2, 'N1': 3}\n",
            "5 [0 'Partial Remission/Response' 'Progressive Disease'\n",
            " 'Complete Remission/Response' 'Stable Disease'] {0: 1, 'Partial Remission/Response': 2, 'Progressive Disease': 3, 'Complete Remission/Response': 4, 'Stable Disease': 5}\n",
            "3 [0 2 1] {0: 1, 2: 2, 1: 3}\n",
            "4 ['Stage IV' 'Stage III' 'Stage I' 'Stage II'] {'Stage IV': 1, 'Stage III': 2, 'Stage I': 3, 'Stage II': 4}\n",
            "3 ['NO' 'YES' 0] {'NO': 1, 'YES': 2, 0: 3}\n",
            "6 ['PALLIATIVE' 0 'PROGRESSION' 'OTHER, SPECIFY IN NOTES' 'ADJUVANT'\n",
            " 'RECURRENCE'] {'PALLIATIVE': 1, 0: 2, 'PROGRESSION': 3, 'OTHER, SPECIFY IN NOTES': 4, 'ADJUVANT': 5, 'RECURRENCE': 6}\n",
            "2 ['Right' 'Left'] {'Right': 1, 'Left': 2}\n",
            "4 ['Normal' 'Low' 0 'Elevated'] {'Normal': 1, 'Low': 2, 0: 3, 'Elevated': 4}\n",
            "4 ['WITH TUMOR' 'TUMOR FREE' 0 1] {'WITH TUMOR': 1, 'TUMOR FREE': 2, 0: 3, 1: 4}\n",
            "3 ['NO' 0 'YES'] {'NO': 1, 0: 2, 'YES': 3}\n",
            "10 ['T3b' 'T3a' 'T1b' 'T1a' 'T2' 'T2a' 'T4' 'T1' 'T2b' 'T3c'] {'T3b': 1, 'T3a': 2, 'T1b': 3, 'T1a': 4, 'T2': 5, 'T2a': 6, 'T4': 7, 'T1': 8, 'T2b': 9, 'T3c': 10}\n",
            "3 ['M1' 'M0' 'MX'] {'M1': 1, 'M0': 2, 'MX': 3}\n",
            "3 ['Dead' 'Alive' 0] {'Dead': 1, 'Alive': 2, 0: 3}\n",
            "4 ['Normal' 'Low' 'Elevated' 0] {'Normal': 1, 'Low': 2, 'Elevated': 3, 0: 4}\n",
            "8 ['BP' 'B0' 'CJ' 'DV' 'CW' 'CZ' 'B8' 'G6'] {'BP': 1, 'B0': 2, 'CJ': 3, 'DV': 4, 'CW': 5, 'CZ': 6, 'B8': 7, 'G6': 8}\n",
            "4 [0 1 2 3] {0: 1, 1: 2, 2: 3, 3: 4}\n",
            "4 ['Elevated' 'Normal' 0 'Low'] {'Elevated': 1, 'Normal': 2, 0: 3, 'Low': 4}\n",
            "4 ['G4' 'G2' 'G3' 'G1'] {'G4': 1, 'G2': 2, 'G3': 3, 'G1': 4}\n",
            "3 ['WITH TUMOR' 'TUMOR FREE' 0] {'WITH TUMOR': 1, 'TUMOR FREE': 2, 0: 3}\n",
            "50 ['Sunitinib' 0 'xeloda' 'Sutent (Sunitinib)' 'Sorafenib - Nexavar'\n",
            " 'Bevacizumab' 'Temsirolimus' 'proleukin (IL-2)' 'Gemcitabine' 'Avastin'\n",
            " 'Sutent' 'Axitnib' 'Oncophage' 'Sorafenib' 'Interferon' 'IL-2'\n",
            " 'gemcitabine' 'RAD001' 'avastin' 'Tarceva' 'Axitinib' 'thalidomide'\n",
            " 'interferon-alpha' 'Xeloda' 'Pazopanib' 'Afinitor' 'Iressa' 'Zometa'\n",
            " 'Interleukin-2' 'Everolimus' 'oncophage vaccine' 'Bay-439006' 'sorafenib'\n",
            " 'sunitinib' 'Bortezomib' 'AZD' 'Intron A' 'nab-rapamycin' 'Roferon-A'\n",
            " 'IFN-Alpha (Intron)' 'interleukin-2' 'Gemzar'\n",
            " 'IL-2 Therapy (interleukin)' 'Gefitinib' 'Alpha Interferon' 'Nexavar'\n",
            " 'Interleukin 2-high dose' 'IL-2 (high dose)' 'sutent (sunitinib)'\n",
            " 'ZD6474'] {'Sunitinib': 1, 0: 2, 'xeloda': 3, 'Sutent (Sunitinib)': 4, 'Sorafenib - Nexavar': 5, 'Bevacizumab': 6, 'Temsirolimus': 7, 'proleukin (IL-2)': 8, 'Gemcitabine': 9, 'Avastin': 10, 'Sutent': 11, 'Axitnib': 12, 'Oncophage': 13, 'Sorafenib': 14, 'Interferon': 15, 'IL-2': 16, 'gemcitabine': 17, 'RAD001': 18, 'avastin': 19, 'Tarceva': 20, 'Axitinib': 21, 'thalidomide': 22, 'interferon-alpha': 23, 'Xeloda': 24, 'Pazopanib': 25, 'Afinitor': 26, 'Iressa': 27, 'Zometa': 28, 'Interleukin-2': 29, 'Everolimus': 30, 'oncophage vaccine': 31, 'Bay-439006': 32, 'sorafenib': 33, 'sunitinib': 34, 'Bortezomib': 35, 'AZD': 36, 'Intron A': 37, 'nab-rapamycin': 38, 'Roferon-A': 39, 'IFN-Alpha (Intron)': 40, 'interleukin-2': 41, 'Gemzar': 42, 'IL-2 Therapy (interleukin)': 43, 'Gefitinib': 44, 'Alpha Interferon': 45, 'Nexavar': 46, 'Interleukin 2-high dose': 47, 'IL-2 (high dose)': 48, 'sutent (sunitinib)': 49, 'ZD6474': 50}\n",
            "4 ['WHITE' 'BLACK OR AFRICAN AMERICAN' 0 'ASIAN'] {'WHITE': 1, 'BLACK OR AFRICAN AMERICAN': 2, 0: 3, 'ASIAN': 4}\n",
            "3 ['Dead' 'Alive' 0] {'Dead': 1, 'Alive': 2, 0: 3}\n",
            "5 ['Targeted Molecular therapy' 0 'Chemotherapy' 'Immunotherapy'\n",
            " 'Other, specify in notes'] {'Targeted Molecular therapy': 1, 0: 2, 'Chemotherapy': 3, 'Immunotherapy': 4, 'Other, specify in notes': 5}\n",
            "3 ['NOT HISPANIC OR LATINO' 0 'HISPANIC OR LATINO'] {'NOT HISPANIC OR LATINO': 1, 0: 2, 'HISPANIC OR LATINO': 3}\n",
            "4 ['Low' 'Normal' 0 'Elevated'] {'Low': 1, 'Normal': 2, 0: 3, 'Elevated': 4}\n",
            "3 ['NO' 0 'YES'] {'NO': 1, 0: 2, 'YES': 3}\n",
            "2 ['No' 'Yes'] {'No': 1, 'Yes': 2}\n"
          ],
          "name": "stdout"
        },
        {
          "output_type": "execute_result",
          "data": {
            "text/html": [
              "<div>\n",
              "<style scoped>\n",
              "    .dataframe tbody tr th:only-of-type {\n",
              "        vertical-align: middle;\n",
              "    }\n",
              "\n",
              "    .dataframe tbody tr th {\n",
              "        vertical-align: top;\n",
              "    }\n",
              "\n",
              "    .dataframe thead th {\n",
              "        text-align: right;\n",
              "    }\n",
              "</style>\n",
              "<table border=\"1\" class=\"dataframe\">\n",
              "  <thead>\n",
              "    <tr style=\"text-align: right;\">\n",
              "      <th></th>\n",
              "      <th>gender</th>\n",
              "      <th>history_neoadjuvant_treatment</th>\n",
              "      <th>ajcc_nodes_pathologic_pn</th>\n",
              "      <th>treatment_outcome_first_course</th>\n",
              "      <th>lymph_nodes_examined_positive</th>\n",
              "      <th>ajcc_pathologic_tumor_stage</th>\n",
              "      <th>new_tumor_event_surgery_met</th>\n",
              "      <th>therapy_regimen_drug</th>\n",
              "      <th>laterality</th>\n",
              "      <th>platelet_count</th>\n",
              "      <th>...</th>\n",
              "      <th>race</th>\n",
              "      <th>death_days_to</th>\n",
              "      <th>vital_status_followup.1</th>\n",
              "      <th>pharmaceutical_therapy_type</th>\n",
              "      <th>new_tumor_event_dx_days_to</th>\n",
              "      <th>ethnicity</th>\n",
              "      <th>hemoglobin_level</th>\n",
              "      <th>prospective_collection</th>\n",
              "      <th>radiation_therapy_started_days_to</th>\n",
              "      <th>history_other_malignancy</th>\n",
              "    </tr>\n",
              "  </thead>\n",
              "  <tbody>\n",
              "    <tr>\n",
              "      <td>0</td>\n",
              "      <td>1</td>\n",
              "      <td>1</td>\n",
              "      <td>1</td>\n",
              "      <td>1</td>\n",
              "      <td>1</td>\n",
              "      <td>1</td>\n",
              "      <td>1</td>\n",
              "      <td>1</td>\n",
              "      <td>1</td>\n",
              "      <td>1</td>\n",
              "      <td>...</td>\n",
              "      <td>1</td>\n",
              "      <td>344</td>\n",
              "      <td>1</td>\n",
              "      <td>1</td>\n",
              "      <td>13</td>\n",
              "      <td>1</td>\n",
              "      <td>1</td>\n",
              "      <td>1</td>\n",
              "      <td>263</td>\n",
              "      <td>1</td>\n",
              "    </tr>\n",
              "    <tr>\n",
              "      <td>1</td>\n",
              "      <td>1</td>\n",
              "      <td>1</td>\n",
              "      <td>1</td>\n",
              "      <td>1</td>\n",
              "      <td>1</td>\n",
              "      <td>1</td>\n",
              "      <td>1</td>\n",
              "      <td>1</td>\n",
              "      <td>1</td>\n",
              "      <td>1</td>\n",
              "      <td>...</td>\n",
              "      <td>1</td>\n",
              "      <td>344</td>\n",
              "      <td>1</td>\n",
              "      <td>1</td>\n",
              "      <td>13</td>\n",
              "      <td>1</td>\n",
              "      <td>1</td>\n",
              "      <td>1</td>\n",
              "      <td>271</td>\n",
              "      <td>1</td>\n",
              "    </tr>\n",
              "    <tr>\n",
              "      <td>2</td>\n",
              "      <td>1</td>\n",
              "      <td>1</td>\n",
              "      <td>1</td>\n",
              "      <td>1</td>\n",
              "      <td>1</td>\n",
              "      <td>1</td>\n",
              "      <td>1</td>\n",
              "      <td>1</td>\n",
              "      <td>1</td>\n",
              "      <td>1</td>\n",
              "      <td>...</td>\n",
              "      <td>1</td>\n",
              "      <td>344</td>\n",
              "      <td>1</td>\n",
              "      <td>1</td>\n",
              "      <td>13</td>\n",
              "      <td>1</td>\n",
              "      <td>1</td>\n",
              "      <td>1</td>\n",
              "      <td>61</td>\n",
              "      <td>1</td>\n",
              "    </tr>\n",
              "    <tr>\n",
              "      <td>3</td>\n",
              "      <td>1</td>\n",
              "      <td>1</td>\n",
              "      <td>1</td>\n",
              "      <td>1</td>\n",
              "      <td>1</td>\n",
              "      <td>1</td>\n",
              "      <td>1</td>\n",
              "      <td>1</td>\n",
              "      <td>1</td>\n",
              "      <td>1</td>\n",
              "      <td>...</td>\n",
              "      <td>1</td>\n",
              "      <td>344</td>\n",
              "      <td>1</td>\n",
              "      <td>1</td>\n",
              "      <td>243</td>\n",
              "      <td>1</td>\n",
              "      <td>1</td>\n",
              "      <td>1</td>\n",
              "      <td>263</td>\n",
              "      <td>1</td>\n",
              "    </tr>\n",
              "    <tr>\n",
              "      <td>4</td>\n",
              "      <td>1</td>\n",
              "      <td>1</td>\n",
              "      <td>1</td>\n",
              "      <td>1</td>\n",
              "      <td>1</td>\n",
              "      <td>1</td>\n",
              "      <td>1</td>\n",
              "      <td>1</td>\n",
              "      <td>1</td>\n",
              "      <td>1</td>\n",
              "      <td>...</td>\n",
              "      <td>1</td>\n",
              "      <td>344</td>\n",
              "      <td>1</td>\n",
              "      <td>1</td>\n",
              "      <td>243</td>\n",
              "      <td>1</td>\n",
              "      <td>1</td>\n",
              "      <td>1</td>\n",
              "      <td>271</td>\n",
              "      <td>1</td>\n",
              "    </tr>\n",
              "    <tr>\n",
              "      <td>5</td>\n",
              "      <td>1</td>\n",
              "      <td>1</td>\n",
              "      <td>1</td>\n",
              "      <td>1</td>\n",
              "      <td>1</td>\n",
              "      <td>1</td>\n",
              "      <td>1</td>\n",
              "      <td>1</td>\n",
              "      <td>1</td>\n",
              "      <td>1</td>\n",
              "      <td>...</td>\n",
              "      <td>1</td>\n",
              "      <td>344</td>\n",
              "      <td>1</td>\n",
              "      <td>1</td>\n",
              "      <td>243</td>\n",
              "      <td>1</td>\n",
              "      <td>1</td>\n",
              "      <td>1</td>\n",
              "      <td>61</td>\n",
              "      <td>1</td>\n",
              "    </tr>\n",
              "    <tr>\n",
              "      <td>6</td>\n",
              "      <td>1</td>\n",
              "      <td>1</td>\n",
              "      <td>1</td>\n",
              "      <td>1</td>\n",
              "      <td>1</td>\n",
              "      <td>1</td>\n",
              "      <td>2</td>\n",
              "      <td>1</td>\n",
              "      <td>1</td>\n",
              "      <td>1</td>\n",
              "      <td>...</td>\n",
              "      <td>1</td>\n",
              "      <td>344</td>\n",
              "      <td>1</td>\n",
              "      <td>1</td>\n",
              "      <td>265</td>\n",
              "      <td>1</td>\n",
              "      <td>1</td>\n",
              "      <td>1</td>\n",
              "      <td>263</td>\n",
              "      <td>1</td>\n",
              "    </tr>\n",
              "    <tr>\n",
              "      <td>7</td>\n",
              "      <td>1</td>\n",
              "      <td>1</td>\n",
              "      <td>1</td>\n",
              "      <td>1</td>\n",
              "      <td>1</td>\n",
              "      <td>1</td>\n",
              "      <td>2</td>\n",
              "      <td>1</td>\n",
              "      <td>1</td>\n",
              "      <td>1</td>\n",
              "      <td>...</td>\n",
              "      <td>1</td>\n",
              "      <td>344</td>\n",
              "      <td>1</td>\n",
              "      <td>1</td>\n",
              "      <td>265</td>\n",
              "      <td>1</td>\n",
              "      <td>1</td>\n",
              "      <td>1</td>\n",
              "      <td>271</td>\n",
              "      <td>1</td>\n",
              "    </tr>\n",
              "    <tr>\n",
              "      <td>8</td>\n",
              "      <td>1</td>\n",
              "      <td>1</td>\n",
              "      <td>1</td>\n",
              "      <td>1</td>\n",
              "      <td>1</td>\n",
              "      <td>1</td>\n",
              "      <td>2</td>\n",
              "      <td>1</td>\n",
              "      <td>1</td>\n",
              "      <td>1</td>\n",
              "      <td>...</td>\n",
              "      <td>1</td>\n",
              "      <td>344</td>\n",
              "      <td>1</td>\n",
              "      <td>1</td>\n",
              "      <td>265</td>\n",
              "      <td>1</td>\n",
              "      <td>1</td>\n",
              "      <td>1</td>\n",
              "      <td>61</td>\n",
              "      <td>1</td>\n",
              "    </tr>\n",
              "    <tr>\n",
              "      <td>9</td>\n",
              "      <td>1</td>\n",
              "      <td>1</td>\n",
              "      <td>1</td>\n",
              "      <td>1</td>\n",
              "      <td>1</td>\n",
              "      <td>2</td>\n",
              "      <td>2</td>\n",
              "      <td>2</td>\n",
              "      <td>1</td>\n",
              "      <td>1</td>\n",
              "      <td>...</td>\n",
              "      <td>1</td>\n",
              "      <td>0</td>\n",
              "      <td>2</td>\n",
              "      <td>2</td>\n",
              "      <td>359</td>\n",
              "      <td>1</td>\n",
              "      <td>2</td>\n",
              "      <td>1</td>\n",
              "      <td>481</td>\n",
              "      <td>1</td>\n",
              "    </tr>\n",
              "  </tbody>\n",
              "</table>\n",
              "<p>10 rows × 33 columns</p>\n",
              "</div>"
            ],
            "text/plain": [
              "   gender  history_neoadjuvant_treatment  ajcc_nodes_pathologic_pn  \\\n",
              "0       1                              1                         1   \n",
              "1       1                              1                         1   \n",
              "2       1                              1                         1   \n",
              "3       1                              1                         1   \n",
              "4       1                              1                         1   \n",
              "5       1                              1                         1   \n",
              "6       1                              1                         1   \n",
              "7       1                              1                         1   \n",
              "8       1                              1                         1   \n",
              "9       1                              1                         1   \n",
              "\n",
              "   treatment_outcome_first_course  lymph_nodes_examined_positive  \\\n",
              "0                               1                              1   \n",
              "1                               1                              1   \n",
              "2                               1                              1   \n",
              "3                               1                              1   \n",
              "4                               1                              1   \n",
              "5                               1                              1   \n",
              "6                               1                              1   \n",
              "7                               1                              1   \n",
              "8                               1                              1   \n",
              "9                               1                              1   \n",
              "\n",
              "   ajcc_pathologic_tumor_stage  new_tumor_event_surgery_met  \\\n",
              "0                            1                            1   \n",
              "1                            1                            1   \n",
              "2                            1                            1   \n",
              "3                            1                            1   \n",
              "4                            1                            1   \n",
              "5                            1                            1   \n",
              "6                            1                            2   \n",
              "7                            1                            2   \n",
              "8                            1                            2   \n",
              "9                            2                            2   \n",
              "\n",
              "   therapy_regimen_drug  laterality  platelet_count  ...  race  death_days_to  \\\n",
              "0                     1           1               1  ...     1            344   \n",
              "1                     1           1               1  ...     1            344   \n",
              "2                     1           1               1  ...     1            344   \n",
              "3                     1           1               1  ...     1            344   \n",
              "4                     1           1               1  ...     1            344   \n",
              "5                     1           1               1  ...     1            344   \n",
              "6                     1           1               1  ...     1            344   \n",
              "7                     1           1               1  ...     1            344   \n",
              "8                     1           1               1  ...     1            344   \n",
              "9                     2           1               1  ...     1              0   \n",
              "\n",
              "   vital_status_followup.1  pharmaceutical_therapy_type  \\\n",
              "0                        1                            1   \n",
              "1                        1                            1   \n",
              "2                        1                            1   \n",
              "3                        1                            1   \n",
              "4                        1                            1   \n",
              "5                        1                            1   \n",
              "6                        1                            1   \n",
              "7                        1                            1   \n",
              "8                        1                            1   \n",
              "9                        2                            2   \n",
              "\n",
              "   new_tumor_event_dx_days_to  ethnicity  hemoglobin_level  \\\n",
              "0                          13          1                 1   \n",
              "1                          13          1                 1   \n",
              "2                          13          1                 1   \n",
              "3                         243          1                 1   \n",
              "4                         243          1                 1   \n",
              "5                         243          1                 1   \n",
              "6                         265          1                 1   \n",
              "7                         265          1                 1   \n",
              "8                         265          1                 1   \n",
              "9                         359          1                 2   \n",
              "\n",
              "   prospective_collection  radiation_therapy_started_days_to  \\\n",
              "0                       1                                263   \n",
              "1                       1                                271   \n",
              "2                       1                                 61   \n",
              "3                       1                                263   \n",
              "4                       1                                271   \n",
              "5                       1                                 61   \n",
              "6                       1                                263   \n",
              "7                       1                                271   \n",
              "8                       1                                 61   \n",
              "9                       1                                481   \n",
              "\n",
              "   history_other_malignancy  \n",
              "0                         1  \n",
              "1                         1  \n",
              "2                         1  \n",
              "3                         1  \n",
              "4                         1  \n",
              "5                         1  \n",
              "6                         1  \n",
              "7                         1  \n",
              "8                         1  \n",
              "9                         1  \n",
              "\n",
              "[10 rows x 33 columns]"
            ]
          },
          "metadata": {
            "tags": []
          },
          "execution_count": 217
        }
      ]
    },
    {
      "cell_type": "code",
      "metadata": {
        "id": "lMkBalUlbWv2",
        "colab_type": "code",
        "colab": {},
        "outputId": "f9f88e66-c914-44db-92f8-8270cc4afcc3"
      },
      "source": [
        "df[\"lymph_nodes_examined_count\"].unique()"
      ],
      "execution_count": 0,
      "outputs": [
        {
          "output_type": "execute_result",
          "data": {
            "text/plain": [
              "array([10,  2,  0, 17,  1,  9,  5, 16, 14,  4, 19,  3, 21,  6, 11,  8,  7,\n",
              "       13, 15, 25], dtype=int64)"
            ]
          },
          "metadata": {
            "tags": []
          },
          "execution_count": 218
        }
      ]
    },
    {
      "cell_type": "code",
      "metadata": {
        "id": "izzVLOgebWwA",
        "colab_type": "code",
        "colab": {}
      },
      "source": [
        "y=df['tumor_grade']\n",
        "df.drop('tumor_grade',axis=1,inplace=True)"
      ],
      "execution_count": 0,
      "outputs": []
    },
    {
      "cell_type": "code",
      "metadata": {
        "id": "U-PAG3jwbWwK",
        "colab_type": "code",
        "colab": {},
        "outputId": "29d28c3b-b37e-4d97-8b76-31156f3262cf"
      },
      "source": [
        "from sklearn.model_selection import train_test_split\n",
        "from sklearn.preprocessing import StandardScaler\n",
        "X_train,X_test,y_train,y_test=train_test_split(df,y,random_state=42,test_size=0.2)\n",
        "for column in X_train:#[\"lymph_nodes_examined_count\",\"death_days_to\",\"radiation_therapy_started_days_to\",\"new_tumor_event_dx_days_to\"]:\n",
        "  X_train[column]=np.log(np.absolute(X_train[column])+1)\n",
        "for column in X_test:\n",
        "  X_test[column]=np.log(np.absolute(X_test[column])+1)"
      ],
      "execution_count": 0,
      "outputs": [
        {
          "output_type": "stream",
          "text": [
            "D:\\Anaconda\\lib\\site-packages\\ipykernel_launcher.py:5: SettingWithCopyWarning: \n",
            "A value is trying to be set on a copy of a slice from a DataFrame.\n",
            "Try using .loc[row_indexer,col_indexer] = value instead\n",
            "\n",
            "See the caveats in the documentation: http://pandas.pydata.org/pandas-docs/stable/user_guide/indexing.html#returning-a-view-versus-a-copy\n",
            "  \"\"\"\n",
            "D:\\Anaconda\\lib\\site-packages\\ipykernel_launcher.py:7: SettingWithCopyWarning: \n",
            "A value is trying to be set on a copy of a slice from a DataFrame.\n",
            "Try using .loc[row_indexer,col_indexer] = value instead\n",
            "\n",
            "See the caveats in the documentation: http://pandas.pydata.org/pandas-docs/stable/user_guide/indexing.html#returning-a-view-versus-a-copy\n",
            "  import sys\n"
          ],
          "name": "stderr"
        }
      ]
    },
    {
      "cell_type": "code",
      "metadata": {
        "id": "kpnKT0dtbWwP",
        "colab_type": "code",
        "colab": {},
        "outputId": "6adddc30-1f77-4e75-e609-cd470d84c425"
      },
      "source": [
        "from sklearn.model_selection import cross_val_score\n",
        "from sklearn.neighbors import KNeighborsClassifier\n",
        "from sklearn import svm\n",
        "knn=KNeighborsClassifier(n_neighbors=5)\n",
        "clf = svm.SVC(kernel='linear', C=4)\n",
        "scores = cross_val_score(knn, X_train, y_train, cv=5)\n",
        "print(scores)"
      ],
      "execution_count": 0,
      "outputs": [
        {
          "output_type": "stream",
          "text": [
            "[0.59036145 0.62962963 0.725      0.75       0.55696203]\n"
          ],
          "name": "stdout"
        },
        {
          "output_type": "stream",
          "text": [
            "D:\\Anaconda\\lib\\site-packages\\sklearn\\model_selection\\_split.py:657: Warning: The least populated class in y has only 1 members, which is too few. The minimum number of members in any class cannot be less than n_splits=5.\n",
            "  % (min_groups, self.n_splits)), Warning)\n"
          ],
          "name": "stderr"
        }
      ]
    },
    {
      "cell_type": "code",
      "metadata": {
        "id": "BpdIO8-dbWwU",
        "colab_type": "code",
        "colab": {},
        "outputId": "8945b8be-7dcb-480e-8898-6f5773b57def"
      },
      "source": [
        "knn.fit(X_train,y_train)\n",
        "y_pred=knn.predict(X_test)\n",
        "from sklearn.metrics import accuracy_score\n",
        "print(accuracy_score(y_test,y_pred))#Accuracy score of Using K Nearest Neighbours"
      ],
      "execution_count": 0,
      "outputs": [
        {
          "output_type": "stream",
          "text": [
            "0.6435643564356436\n"
          ],
          "name": "stdout"
        }
      ]
    },
    {
      "cell_type": "code",
      "metadata": {
        "id": "bF-Z8L__bWwc",
        "colab_type": "code",
        "colab": {},
        "outputId": "0248ece4-95ce-4b87-b5e6-fca91886f7b8"
      },
      "source": [
        "scores = cross_val_score(clf, X_train, y_train,cv=5)\n",
        "print(scores)\n",
        "clf.fit(X_train,y_train)\n",
        "y_pred=clf.predict(X_test)\n",
        "print(accuracy_score(y_test,y_pred))#Accuracy score for Using SVM"
      ],
      "execution_count": 0,
      "outputs": [
        {
          "output_type": "stream",
          "text": [
            "D:\\Anaconda\\lib\\site-packages\\sklearn\\model_selection\\_split.py:657: Warning: The least populated class in y has only 1 members, which is too few. The minimum number of members in any class cannot be less than n_splits=5.\n",
            "  % (min_groups, self.n_splits)), Warning)\n"
          ],
          "name": "stderr"
        },
        {
          "output_type": "stream",
          "text": [
            "[0.60240964 0.71604938 0.8125     0.75       0.6835443 ]\n",
            "0.693069306930693\n"
          ],
          "name": "stdout"
        }
      ]
    },
    {
      "cell_type": "code",
      "metadata": {
        "id": "ktJN3L0lbWwh",
        "colab_type": "code",
        "colab": {},
        "outputId": "b94ce12a-b59e-433f-9c10-37447f0dd405"
      },
      "source": [
        "from sklearn.tree import DecisionTreeClassifier\n",
        "dtc=DecisionTreeClassifier()\n",
        "scores = cross_val_score(dtc, X_train, y_train, cv=3)\n",
        "print(scores)"
      ],
      "execution_count": 0,
      "outputs": [
        {
          "output_type": "stream",
          "text": [
            "[0.68613139 0.68421053 0.73684211]\n"
          ],
          "name": "stdout"
        },
        {
          "output_type": "stream",
          "text": [
            "D:\\Anaconda\\lib\\site-packages\\sklearn\\model_selection\\_split.py:657: Warning: The least populated class in y has only 1 members, which is too few. The minimum number of members in any class cannot be less than n_splits=3.\n",
            "  % (min_groups, self.n_splits)), Warning)\n"
          ],
          "name": "stderr"
        }
      ]
    },
    {
      "cell_type": "code",
      "metadata": {
        "id": "vUtg_vR8bWwo",
        "colab_type": "code",
        "colab": {},
        "outputId": "9d0fb53b-fc77-4d4d-a6fd-ac8c6811ee6f"
      },
      "source": [
        "dtc.fit(X_train,y_train)\n",
        "y_pred=dtc.predict(X_test)\n",
        "from sklearn.metrics import accuracy_score\n",
        "print(accuracy_score(y_test,y_pred))"
      ],
      "execution_count": 0,
      "outputs": [
        {
          "output_type": "stream",
          "text": [
            "0.7821782178217822\n"
          ],
          "name": "stdout"
        }
      ]
    },
    {
      "cell_type": "code",
      "metadata": {
        "id": "nr1IyhmabWww",
        "colab_type": "code",
        "colab": {},
        "outputId": "e54b917e-f329-4625-b03b-4a6eed1b86c8"
      },
      "source": [
        "from sklearn.ensemble import RandomForestClassifier\n",
        "rfc= RandomForestClassifier(max_depth=5)\n",
        "scores = cross_val_score(rfc, X_train, y_train, cv=3)\n",
        "print(scores)"
      ],
      "execution_count": 0,
      "outputs": [
        {
          "output_type": "stream",
          "text": [
            "[0.65693431 0.63157895 0.69924812]\n"
          ],
          "name": "stdout"
        },
        {
          "output_type": "stream",
          "text": [
            "D:\\Anaconda\\lib\\site-packages\\sklearn\\model_selection\\_split.py:657: Warning: The least populated class in y has only 1 members, which is too few. The minimum number of members in any class cannot be less than n_splits=3.\n",
            "  % (min_groups, self.n_splits)), Warning)\n",
            "D:\\Anaconda\\lib\\site-packages\\sklearn\\ensemble\\forest.py:245: FutureWarning: The default value of n_estimators will change from 10 in version 0.20 to 100 in 0.22.\n",
            "  \"10 in version 0.20 to 100 in 0.22.\", FutureWarning)\n",
            "D:\\Anaconda\\lib\\site-packages\\sklearn\\ensemble\\forest.py:245: FutureWarning: The default value of n_estimators will change from 10 in version 0.20 to 100 in 0.22.\n",
            "  \"10 in version 0.20 to 100 in 0.22.\", FutureWarning)\n",
            "D:\\Anaconda\\lib\\site-packages\\sklearn\\ensemble\\forest.py:245: FutureWarning: The default value of n_estimators will change from 10 in version 0.20 to 100 in 0.22.\n",
            "  \"10 in version 0.20 to 100 in 0.22.\", FutureWarning)\n"
          ],
          "name": "stderr"
        }
      ]
    },
    {
      "cell_type": "code",
      "metadata": {
        "id": "XbslsABQbWw0",
        "colab_type": "code",
        "colab": {},
        "outputId": "52e3ab98-2880-4c18-8f34-0184ea77f424"
      },
      "source": [
        "rfc.fit(X_train,y_train)\n",
        "y_pred=dtc.predict(X_test)\n",
        "from sklearn.metrics import accuracy_score\n",
        "print(accuracy_score(y_test,y_pred))"
      ],
      "execution_count": 0,
      "outputs": [
        {
          "output_type": "stream",
          "text": [
            "0.7821782178217822\n"
          ],
          "name": "stdout"
        },
        {
          "output_type": "stream",
          "text": [
            "D:\\Anaconda\\lib\\site-packages\\sklearn\\ensemble\\forest.py:245: FutureWarning: The default value of n_estimators will change from 10 in version 0.20 to 100 in 0.22.\n",
            "  \"10 in version 0.20 to 100 in 0.22.\", FutureWarning)\n"
          ],
          "name": "stderr"
        }
      ]
    },
    {
      "cell_type": "code",
      "metadata": {
        "id": "e3Qc7eJlbWw7",
        "colab_type": "code",
        "colab": {},
        "outputId": "b32e3753-98cf-43ec-c3da-06da1f251e3d"
      },
      "source": [
        "from sklearn.ensemble import GradientBoostingClassifier\n",
        "\n",
        "gbc=GradientBoostingClassifier(n_estimators=200,max_depth=4,verbose=True)\n",
        "cross_val_score(gbc,X_train,y_train,cv=3)"
      ],
      "execution_count": 0,
      "outputs": [
        {
          "output_type": "stream",
          "text": [
            "D:\\Anaconda\\lib\\site-packages\\sklearn\\model_selection\\_split.py:657: Warning: The least populated class in y has only 1 members, which is too few. The minimum number of members in any class cannot be less than n_splits=3.\n",
            "  % (min_groups, self.n_splits)), Warning)\n"
          ],
          "name": "stderr"
        },
        {
          "output_type": "stream",
          "text": [
            "      Iter       Train Loss   Remaining Time \n",
            "         1         262.3394            0.97s\n",
            "         2         239.5088            0.88s\n",
            "         3         218.4601            0.97s\n",
            "         4         200.8213            1.24s\n",
            "         5         185.8708            1.33s\n",
            "         6         173.5015            1.38s\n",
            "         7         162.2207            1.33s\n",
            "         8         152.0340            1.40s\n",
            "         9         143.3191            1.39s\n",
            "        10         134.8058            1.39s\n",
            "        20          90.1377            1.26s\n",
            "        30          64.4428            1.22s\n",
            "        40          50.0562            1.11s\n",
            "        50          39.6127            1.03s\n",
            "        60          31.7241            0.95s\n",
            "        70          25.8959            0.89s\n",
            "        80          21.0675            0.82s\n",
            "        90          17.5628            0.75s\n",
            "       100          14.2003            0.68s\n",
            "       200           3.6588            0.00s\n",
            "      Iter       Train Loss   Remaining Time \n",
            "         1         262.8578            0.86s\n",
            "         2         236.7807            1.28s\n",
            "         3         215.3107            1.18s\n",
            "         4         197.8887            1.32s\n",
            "         5         183.1729            1.36s\n",
            "         6         170.5306            1.16s\n",
            "         7         159.3841            1.26s\n",
            "         8         150.0071            1.33s\n",
            "         9         141.4105            1.39s\n",
            "        10         133.6449            1.42s\n",
            "        20          86.6566            1.38s\n",
            "        30          63.5982            1.28s\n",
            "        40          50.6093            1.18s\n",
            "        50          41.1685            1.10s\n",
            "        60          32.8279            1.03s\n",
            "        70          26.6642            0.95s\n",
            "        80          21.7090            0.88s\n",
            "        90          18.5393            0.80s\n",
            "       100          15.8340            0.72s\n",
            "       200           6.7151            0.00s\n",
            "      Iter       Train Loss   Remaining Time \n",
            "         1         262.9710            2.05s\n",
            "         2         236.7805            1.82s\n",
            "         3         215.7797            1.70s\n",
            "         4         198.3668            1.66s\n",
            "         5         183.3493            1.74s\n",
            "         6         170.0360            1.84s\n",
            "         7         159.7668            2.02s\n",
            "         8         150.0608            2.09s\n",
            "         9         140.6300            2.35s\n",
            "        10         133.6885            2.46s\n",
            "        20          89.6013            1.95s\n",
            "        30          66.3618            1.64s\n",
            "        40          49.5711            1.45s\n",
            "        50          41.0497            1.31s\n",
            "        60          32.7074            1.21s\n",
            "        70          26.0446            1.10s\n",
            "        80          21.3846            0.99s\n",
            "        90          17.2589            0.92s\n",
            "       100          14.1759            0.82s\n",
            "       200           3.8545            0.00s\n"
          ],
          "name": "stdout"
        },
        {
          "output_type": "execute_result",
          "data": {
            "text/plain": [
              "array([0.70072993, 0.79699248, 0.83458647])"
            ]
          },
          "metadata": {
            "tags": []
          },
          "execution_count": 228
        }
      ]
    },
    {
      "cell_type": "code",
      "metadata": {
        "id": "TtO4F_LQbWxA",
        "colab_type": "code",
        "colab": {},
        "outputId": "9ef58489-f794-482a-b9e0-7cbefd2aaf97"
      },
      "source": [
        "gbc.fit(X_train,y_train)"
      ],
      "execution_count": 0,
      "outputs": [
        {
          "output_type": "stream",
          "text": [
            "      Iter       Train Loss   Remaining Time \n",
            "         1         396.7763            1.60s\n",
            "         2         359.8549            1.87s\n",
            "         3         329.6732            1.77s\n",
            "         4         303.4880            1.80s\n",
            "         5         282.1312            1.84s\n",
            "         6         264.4700            1.85s\n",
            "         7         247.8846            1.88s\n",
            "         8         234.5824            1.87s\n",
            "         9         222.8092            1.83s\n",
            "        10         211.5700            1.79s\n",
            "        20         146.7066            1.64s\n",
            "        30         116.1460            1.56s\n",
            "        40          94.1382            1.43s\n",
            "        50          77.3605            1.35s\n",
            "        60          65.1797            1.25s\n",
            "        70          55.2273            1.16s\n",
            "        80          46.5374            1.07s\n",
            "        90          40.7396            0.98s\n",
            "       100          35.6440            0.88s\n",
            "       200          13.7843            0.00s\n"
          ],
          "name": "stdout"
        },
        {
          "output_type": "execute_result",
          "data": {
            "text/plain": [
              "GradientBoostingClassifier(criterion='friedman_mse', init=None,\n",
              "                           learning_rate=0.1, loss='deviance', max_depth=4,\n",
              "                           max_features=None, max_leaf_nodes=None,\n",
              "                           min_impurity_decrease=0.0, min_impurity_split=None,\n",
              "                           min_samples_leaf=1, min_samples_split=2,\n",
              "                           min_weight_fraction_leaf=0.0, n_estimators=200,\n",
              "                           n_iter_no_change=None, presort='auto',\n",
              "                           random_state=None, subsample=1.0, tol=0.0001,\n",
              "                           validation_fraction=0.1, verbose=True,\n",
              "                           warm_start=False)"
            ]
          },
          "metadata": {
            "tags": []
          },
          "execution_count": 229
        }
      ]
    },
    {
      "cell_type": "code",
      "metadata": {
        "scrolled": true,
        "id": "hK3D-BRZbWxE",
        "colab_type": "code",
        "colab": {},
        "outputId": "2de06226-3cfe-4070-c8d6-55a9eb14752a"
      },
      "source": [
        "y_pred=gbc.predict(X_test)\n",
        "from sklearn.metrics import accuracy_score\n",
        "print(accuracy_score(y_test,y_pred))"
      ],
      "execution_count": 0,
      "outputs": [
        {
          "output_type": "stream",
          "text": [
            "0.8217821782178217\n"
          ],
          "name": "stdout"
        }
      ]
    },
    {
      "cell_type": "code",
      "metadata": {
        "id": "63eM1EHJbWxL",
        "colab_type": "code",
        "colab": {}
      },
      "source": [
        "#this section will have the result of 33 features"
      ],
      "execution_count": 0,
      "outputs": []
    },
    {
      "cell_type": "code",
      "metadata": {
        "id": "GT21MUlKbWxQ",
        "colab_type": "code",
        "colab": {},
        "outputId": "7b6c472c-f0a4-41e7-e790-667799add4cf"
      },
      "source": [
        "y.unique()"
      ],
      "execution_count": 0,
      "outputs": [
        {
          "output_type": "execute_result",
          "data": {
            "text/plain": [
              "array([1, 2, 3, 4], dtype=int64)"
            ]
          },
          "metadata": {
            "tags": []
          },
          "execution_count": 232
        }
      ]
    },
    {
      "cell_type": "code",
      "metadata": {
        "id": "aUn8USngbWxW",
        "colab_type": "code",
        "colab": {}
      },
      "source": [
        ""
      ],
      "execution_count": 0,
      "outputs": []
    },
    {
      "cell_type": "code",
      "metadata": {
        "id": "DykCTliFbWxf",
        "colab_type": "code",
        "colab": {}
      },
      "source": [
        ""
      ],
      "execution_count": 0,
      "outputs": []
    },
    {
      "cell_type": "code",
      "metadata": {
        "id": "8j5ihcI0bWxj",
        "colab_type": "code",
        "colab": {}
      },
      "source": [
        ""
      ],
      "execution_count": 0,
      "outputs": []
    },
    {
      "cell_type": "code",
      "metadata": {
        "id": "yojEPSp2bWxt",
        "colab_type": "code",
        "colab": {}
      },
      "source": [
        ""
      ],
      "execution_count": 0,
      "outputs": []
    },
    {
      "cell_type": "code",
      "metadata": {
        "id": "jnR0NPC4bWxy",
        "colab_type": "code",
        "colab": {}
      },
      "source": [
        ""
      ],
      "execution_count": 0,
      "outputs": []
    },
    {
      "cell_type": "code",
      "metadata": {
        "id": "PvEqs97obWx3",
        "colab_type": "code",
        "colab": {}
      },
      "source": [
        ""
      ],
      "execution_count": 0,
      "outputs": []
    },
    {
      "cell_type": "code",
      "metadata": {
        "id": "OGRrKATCbWx_",
        "colab_type": "code",
        "colab": {}
      },
      "source": [
        ""
      ],
      "execution_count": 0,
      "outputs": []
    },
    {
      "cell_type": "code",
      "metadata": {
        "id": "icxZ18zjbWyF",
        "colab_type": "code",
        "colab": {}
      },
      "source": [
        ""
      ],
      "execution_count": 0,
      "outputs": []
    },
    {
      "cell_type": "code",
      "metadata": {
        "id": "K2krsuRabWyJ",
        "colab_type": "code",
        "colab": {}
      },
      "source": [
        ""
      ],
      "execution_count": 0,
      "outputs": []
    }
  ]
}