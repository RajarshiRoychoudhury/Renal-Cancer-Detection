{
  "nbformat": 4,
  "nbformat_minor": 0,
  "metadata": {
    "kernelspec": {
      "display_name": "Python 3",
      "language": "python",
      "name": "python3"
    },
    "language_info": {
      "codemirror_mode": {
        "name": "ipython",
        "version": 3
      },
      "file_extension": ".py",
      "mimetype": "text/x-python",
      "name": "python",
      "nbconvert_exporter": "python",
      "pygments_lexer": "ipython3",
      "version": "3.7.4"
    },
    "colab": {
      "name": "cancer_train_final_28.ipynb",
      "provenance": []
    }
  },
  "cells": [
    {
      "cell_type": "code",
      "metadata": {
        "id": "W6rzDgzbbLQP",
        "colab_type": "code",
        "colab": {}
      },
      "source": [
        "import pandas as pd\n",
        "import numpy as np\n",
        "import matplotlib.pyplot as plt"
      ],
      "execution_count": 0,
      "outputs": []
    },
    {
      "cell_type": "code",
      "metadata": {
        "id": "YtvTzeHJbLQX",
        "colab_type": "code",
        "colab": {}
      },
      "source": [
        "#this section will be on the 28 features excel file"
      ],
      "execution_count": 0,
      "outputs": []
    },
    {
      "cell_type": "code",
      "metadata": {
        "id": "piivPlbmbLQc",
        "colab_type": "code",
        "colab": {}
      },
      "source": [
        "df=pd.read_excel(\"28 Features.xlsx\")\n",
        "#df.head(5)"
      ],
      "execution_count": 0,
      "outputs": []
    },
    {
      "cell_type": "code",
      "metadata": {
        "id": "eiTLgKvabLQh",
        "colab_type": "code",
        "colab": {}
      },
      "source": [
        "#df.columns"
      ],
      "execution_count": 0,
      "outputs": []
    },
    {
      "cell_type": "code",
      "metadata": {
        "id": "I8NUGfwHbLQp",
        "colab_type": "code",
        "colab": {},
        "outputId": "7f505ce7-0d11-4451-a0a3-8cbec3d2f47b"
      },
      "source": [
        "df['tumor_grade'].unique()"
      ],
      "execution_count": 0,
      "outputs": [
        {
          "output_type": "execute_result",
          "data": {
            "text/plain": [
              "array(['G4', 'G2', 'G3', 'G1'], dtype=object)"
            ]
          },
          "metadata": {
            "tags": []
          },
          "execution_count": 277
        }
      ]
    },
    {
      "cell_type": "code",
      "metadata": {
        "id": "25qYQ5JfbLQx",
        "colab_type": "code",
        "colab": {}
      },
      "source": [
        "#df.isnull().sum()"
      ],
      "execution_count": 0,
      "outputs": []
    },
    {
      "cell_type": "code",
      "metadata": {
        "id": "MUqDdq-cbLQ3",
        "colab_type": "code",
        "colab": {}
      },
      "source": [
        "#for i in df.columns:\n",
        " # print(df[i].unique())\n"
      ],
      "execution_count": 0,
      "outputs": []
    },
    {
      "cell_type": "code",
      "metadata": {
        "id": "4AJy11MPbLQ-",
        "colab_type": "code",
        "colab": {}
      },
      "source": [
        "df.replace({'[not]':0,'[Unknown]':1,'[not ]':0,\"Yes, History of Synchronous/Bilateral Malignancy\":'Yes','Yes, History of Prior Malignancy':'Yes'},inplace=True)"
      ],
      "execution_count": 0,
      "outputs": []
    },
    {
      "cell_type": "code",
      "metadata": {
        "id": "BdkM2w6WbLRD",
        "colab_type": "code",
        "colab": {},
        "outputId": "15b424f6-b0bb-4355-92da-ea7ff1e22558"
      },
      "source": [
        "for column in df.columns:\n",
        "  if column not in [\"lymph_nodes_examined_count\",\"death_days_to\",\"radiation_therapy_started_days_to\",\"new_tumor_event_dx_days_to\"] :\n",
        "    n=len(df[column].unique())\n",
        "    l=[1+i for i in range(n)]\n",
        "    map_dict={}\n",
        "    l2=df[column].unique()\n",
        "    for j in range(len(l2)):\n",
        "      map_dict[l2[j]]=l[j]\n",
        "    df[column].replace(map_dict,inplace=True)\n",
        "    print(map_dict)\n",
        "df.head(10)"
      ],
      "execution_count": 0,
      "outputs": [
        {
          "output_type": "stream",
          "text": [
            "{'Stage IV': 1, 'Stage III': 2, 'Stage I': 3, 'Stage II': 4}\n",
            "{'NO': 1, 'YES': 2, 0: 3}\n",
            "{'PALLIATIVE': 1, 0: 2, 'PROGRESSION': 3, 'OTHER, SPECIFY IN NOTES': 4, 'ADJUVANT': 5, 'RECURRENCE': 6}\n",
            "{'Right': 1, 'Left': 2}\n",
            "{'Normal': 1, 'Low': 2, 0: 3, 'Elevated': 4}\n",
            "{'WITH TUMOR': 1, 'TUMOR FREE': 2, 0: 3, 1: 4}\n",
            "{'NO': 1, 0: 2, 'YES': 3}\n",
            "{'T3b': 1, 'T3a': 2, 'T1b': 3, 'T1a': 4, 'T2': 5, 'T2a': 6, 'T4': 7, 'T1': 8, 'T2b': 9, 'T3c': 10}\n",
            "{'M1': 1, 'M0': 2, 'MX': 3}\n",
            "{'Dead': 1, 'Alive': 2, 0: 3}\n",
            "{'Normal': 1, 'Low': 2, 'Elevated': 3, 0: 4}\n",
            "{'BP': 1, 'B0': 2, 'CJ': 3, 'DV': 4, 'CW': 5, 'CZ': 6, 'B8': 7, 'G6': 8}\n",
            "{0: 1, 1: 2, 2: 3, 3: 4}\n",
            "{'Elevated': 1, 'Normal': 2, 0: 3, 'Low': 4}\n",
            "{'G4': 1, 'G2': 2, 'G3': 3, 'G1': 4}\n",
            "{'WITH TUMOR': 1, 'TUMOR FREE': 2, 0: 3}\n",
            "{'Sunitinib': 1, 0: 2, 'xeloda': 3, 'Sutent (Sunitinib)': 4, 'Sorafenib - Nexavar': 5, 'Bevacizumab': 6, 'Temsirolimus': 7, 'proleukin (IL-2)': 8, 'Gemcitabine': 9, 'Avastin': 10, 'Sutent': 11, 'Axitnib': 12, 'Oncophage': 13, 'Sorafenib': 14, 'Interferon': 15, 'IL-2': 16, 'gemcitabine': 17, 'RAD001': 18, 'avastin': 19, 'Tarceva': 20, 'Axitinib': 21, 'thalidomide': 22, 'interferon-alpha': 23, 'Xeloda': 24, 'Pazopanib': 25, 'Afinitor': 26, 'Iressa': 27, 'Zometa': 28, 'Interleukin-2': 29, 'Everolimus': 30, 'oncophage vaccine': 31, 'Bay-439006': 32, 'sorafenib': 33, 'sunitinib': 34, 'Bortezomib': 35, 'AZD': 36, 'Intron A': 37, 'nab-rapamycin': 38, 'Roferon-A': 39, 'IFN-Alpha (Intron)': 40, 'interleukin-2': 41, 'Gemzar': 42, 'IL-2 Therapy (interleukin)': 43, 'Gefitinib': 44, 'Alpha Interferon': 45, 'Nexavar': 46, 'Interleukin 2-high dose': 47, 'IL-2 (high dose)': 48, 'sutent (sunitinib)': 49, 'ZD6474': 50}\n",
            "{'WHITE': 1, 'BLACK OR AFRICAN AMERICAN': 2, 0: 3, 'ASIAN': 4}\n",
            "{'Dead': 1, 'Alive': 2, 0: 3}\n",
            "{'Targeted Molecular therapy': 1, 0: 2, 'Chemotherapy': 3, 'Immunotherapy': 4, 'Other, specify in notes': 5}\n",
            "{'NOT HISPANIC OR LATINO': 1, 0: 2, 'HISPANIC OR LATINO': 3}\n",
            "{'Low': 1, 'Normal': 2, 0: 3, 'Elevated': 4}\n",
            "{'NO': 1, 0: 2, 'YES': 3}\n",
            "{'No': 1, 'Yes': 2}\n"
          ],
          "name": "stdout"
        },
        {
          "output_type": "execute_result",
          "data": {
            "text/html": [
              "<div>\n",
              "<style scoped>\n",
              "    .dataframe tbody tr th:only-of-type {\n",
              "        vertical-align: middle;\n",
              "    }\n",
              "\n",
              "    .dataframe tbody tr th {\n",
              "        vertical-align: top;\n",
              "    }\n",
              "\n",
              "    .dataframe thead th {\n",
              "        text-align: right;\n",
              "    }\n",
              "</style>\n",
              "<table border=\"1\" class=\"dataframe\">\n",
              "  <thead>\n",
              "    <tr style=\"text-align: right;\">\n",
              "      <th></th>\n",
              "      <th>ajcc_pathologic_tumor_stage</th>\n",
              "      <th>new_tumor_event_surgery_met</th>\n",
              "      <th>therapy_regimen_drug</th>\n",
              "      <th>laterality</th>\n",
              "      <th>platelet_count</th>\n",
              "      <th>lymph_nodes_examined_count</th>\n",
              "      <th>tumor_status_followup</th>\n",
              "      <th>pharmaceutical_tx_ongoing_indicator</th>\n",
              "      <th>ajcc_tumor_pathologic_pt</th>\n",
              "      <th>ajcc_metastasis_pathologic_pm</th>\n",
              "      <th>...</th>\n",
              "      <th>race</th>\n",
              "      <th>death_days_to</th>\n",
              "      <th>vital_status_followup.1</th>\n",
              "      <th>pharmaceutical_therapy_type</th>\n",
              "      <th>new_tumor_event_dx_days_to</th>\n",
              "      <th>ethnicity</th>\n",
              "      <th>hemoglobin_level</th>\n",
              "      <th>prospective_collection</th>\n",
              "      <th>radiation_therapy_started_days_to</th>\n",
              "      <th>history_other_malignancy</th>\n",
              "    </tr>\n",
              "  </thead>\n",
              "  <tbody>\n",
              "    <tr>\n",
              "      <td>0</td>\n",
              "      <td>1</td>\n",
              "      <td>1</td>\n",
              "      <td>1</td>\n",
              "      <td>1</td>\n",
              "      <td>1</td>\n",
              "      <td>10</td>\n",
              "      <td>1</td>\n",
              "      <td>1</td>\n",
              "      <td>1</td>\n",
              "      <td>1</td>\n",
              "      <td>...</td>\n",
              "      <td>1</td>\n",
              "      <td>344</td>\n",
              "      <td>1</td>\n",
              "      <td>1</td>\n",
              "      <td>13</td>\n",
              "      <td>1</td>\n",
              "      <td>1</td>\n",
              "      <td>1</td>\n",
              "      <td>263</td>\n",
              "      <td>1</td>\n",
              "    </tr>\n",
              "    <tr>\n",
              "      <td>1</td>\n",
              "      <td>1</td>\n",
              "      <td>1</td>\n",
              "      <td>1</td>\n",
              "      <td>1</td>\n",
              "      <td>1</td>\n",
              "      <td>10</td>\n",
              "      <td>1</td>\n",
              "      <td>1</td>\n",
              "      <td>1</td>\n",
              "      <td>1</td>\n",
              "      <td>...</td>\n",
              "      <td>1</td>\n",
              "      <td>344</td>\n",
              "      <td>1</td>\n",
              "      <td>1</td>\n",
              "      <td>13</td>\n",
              "      <td>1</td>\n",
              "      <td>1</td>\n",
              "      <td>1</td>\n",
              "      <td>271</td>\n",
              "      <td>1</td>\n",
              "    </tr>\n",
              "    <tr>\n",
              "      <td>2</td>\n",
              "      <td>1</td>\n",
              "      <td>1</td>\n",
              "      <td>1</td>\n",
              "      <td>1</td>\n",
              "      <td>1</td>\n",
              "      <td>10</td>\n",
              "      <td>1</td>\n",
              "      <td>1</td>\n",
              "      <td>1</td>\n",
              "      <td>1</td>\n",
              "      <td>...</td>\n",
              "      <td>1</td>\n",
              "      <td>344</td>\n",
              "      <td>1</td>\n",
              "      <td>1</td>\n",
              "      <td>13</td>\n",
              "      <td>1</td>\n",
              "      <td>1</td>\n",
              "      <td>1</td>\n",
              "      <td>61</td>\n",
              "      <td>1</td>\n",
              "    </tr>\n",
              "    <tr>\n",
              "      <td>3</td>\n",
              "      <td>1</td>\n",
              "      <td>1</td>\n",
              "      <td>1</td>\n",
              "      <td>1</td>\n",
              "      <td>1</td>\n",
              "      <td>10</td>\n",
              "      <td>1</td>\n",
              "      <td>1</td>\n",
              "      <td>1</td>\n",
              "      <td>1</td>\n",
              "      <td>...</td>\n",
              "      <td>1</td>\n",
              "      <td>344</td>\n",
              "      <td>1</td>\n",
              "      <td>1</td>\n",
              "      <td>243</td>\n",
              "      <td>1</td>\n",
              "      <td>1</td>\n",
              "      <td>1</td>\n",
              "      <td>263</td>\n",
              "      <td>1</td>\n",
              "    </tr>\n",
              "    <tr>\n",
              "      <td>4</td>\n",
              "      <td>1</td>\n",
              "      <td>1</td>\n",
              "      <td>1</td>\n",
              "      <td>1</td>\n",
              "      <td>1</td>\n",
              "      <td>10</td>\n",
              "      <td>1</td>\n",
              "      <td>1</td>\n",
              "      <td>1</td>\n",
              "      <td>1</td>\n",
              "      <td>...</td>\n",
              "      <td>1</td>\n",
              "      <td>344</td>\n",
              "      <td>1</td>\n",
              "      <td>1</td>\n",
              "      <td>243</td>\n",
              "      <td>1</td>\n",
              "      <td>1</td>\n",
              "      <td>1</td>\n",
              "      <td>271</td>\n",
              "      <td>1</td>\n",
              "    </tr>\n",
              "    <tr>\n",
              "      <td>5</td>\n",
              "      <td>1</td>\n",
              "      <td>1</td>\n",
              "      <td>1</td>\n",
              "      <td>1</td>\n",
              "      <td>1</td>\n",
              "      <td>10</td>\n",
              "      <td>1</td>\n",
              "      <td>1</td>\n",
              "      <td>1</td>\n",
              "      <td>1</td>\n",
              "      <td>...</td>\n",
              "      <td>1</td>\n",
              "      <td>344</td>\n",
              "      <td>1</td>\n",
              "      <td>1</td>\n",
              "      <td>243</td>\n",
              "      <td>1</td>\n",
              "      <td>1</td>\n",
              "      <td>1</td>\n",
              "      <td>61</td>\n",
              "      <td>1</td>\n",
              "    </tr>\n",
              "    <tr>\n",
              "      <td>6</td>\n",
              "      <td>1</td>\n",
              "      <td>2</td>\n",
              "      <td>1</td>\n",
              "      <td>1</td>\n",
              "      <td>1</td>\n",
              "      <td>10</td>\n",
              "      <td>1</td>\n",
              "      <td>1</td>\n",
              "      <td>1</td>\n",
              "      <td>1</td>\n",
              "      <td>...</td>\n",
              "      <td>1</td>\n",
              "      <td>344</td>\n",
              "      <td>1</td>\n",
              "      <td>1</td>\n",
              "      <td>265</td>\n",
              "      <td>1</td>\n",
              "      <td>1</td>\n",
              "      <td>1</td>\n",
              "      <td>263</td>\n",
              "      <td>1</td>\n",
              "    </tr>\n",
              "    <tr>\n",
              "      <td>7</td>\n",
              "      <td>1</td>\n",
              "      <td>2</td>\n",
              "      <td>1</td>\n",
              "      <td>1</td>\n",
              "      <td>1</td>\n",
              "      <td>10</td>\n",
              "      <td>1</td>\n",
              "      <td>1</td>\n",
              "      <td>1</td>\n",
              "      <td>1</td>\n",
              "      <td>...</td>\n",
              "      <td>1</td>\n",
              "      <td>344</td>\n",
              "      <td>1</td>\n",
              "      <td>1</td>\n",
              "      <td>265</td>\n",
              "      <td>1</td>\n",
              "      <td>1</td>\n",
              "      <td>1</td>\n",
              "      <td>271</td>\n",
              "      <td>1</td>\n",
              "    </tr>\n",
              "    <tr>\n",
              "      <td>8</td>\n",
              "      <td>1</td>\n",
              "      <td>2</td>\n",
              "      <td>1</td>\n",
              "      <td>1</td>\n",
              "      <td>1</td>\n",
              "      <td>10</td>\n",
              "      <td>1</td>\n",
              "      <td>1</td>\n",
              "      <td>1</td>\n",
              "      <td>1</td>\n",
              "      <td>...</td>\n",
              "      <td>1</td>\n",
              "      <td>344</td>\n",
              "      <td>1</td>\n",
              "      <td>1</td>\n",
              "      <td>265</td>\n",
              "      <td>1</td>\n",
              "      <td>1</td>\n",
              "      <td>1</td>\n",
              "      <td>61</td>\n",
              "      <td>1</td>\n",
              "    </tr>\n",
              "    <tr>\n",
              "      <td>9</td>\n",
              "      <td>2</td>\n",
              "      <td>2</td>\n",
              "      <td>2</td>\n",
              "      <td>1</td>\n",
              "      <td>1</td>\n",
              "      <td>2</td>\n",
              "      <td>1</td>\n",
              "      <td>2</td>\n",
              "      <td>1</td>\n",
              "      <td>2</td>\n",
              "      <td>...</td>\n",
              "      <td>1</td>\n",
              "      <td>0</td>\n",
              "      <td>2</td>\n",
              "      <td>2</td>\n",
              "      <td>359</td>\n",
              "      <td>1</td>\n",
              "      <td>2</td>\n",
              "      <td>1</td>\n",
              "      <td>481</td>\n",
              "      <td>1</td>\n",
              "    </tr>\n",
              "  </tbody>\n",
              "</table>\n",
              "<p>10 rows × 28 columns</p>\n",
              "</div>"
            ],
            "text/plain": [
              "   ajcc_pathologic_tumor_stage  new_tumor_event_surgery_met  \\\n",
              "0                            1                            1   \n",
              "1                            1                            1   \n",
              "2                            1                            1   \n",
              "3                            1                            1   \n",
              "4                            1                            1   \n",
              "5                            1                            1   \n",
              "6                            1                            2   \n",
              "7                            1                            2   \n",
              "8                            1                            2   \n",
              "9                            2                            2   \n",
              "\n",
              "   therapy_regimen_drug  laterality  platelet_count  \\\n",
              "0                     1           1               1   \n",
              "1                     1           1               1   \n",
              "2                     1           1               1   \n",
              "3                     1           1               1   \n",
              "4                     1           1               1   \n",
              "5                     1           1               1   \n",
              "6                     1           1               1   \n",
              "7                     1           1               1   \n",
              "8                     1           1               1   \n",
              "9                     2           1               1   \n",
              "\n",
              "   lymph_nodes_examined_count  tumor_status_followup  \\\n",
              "0                          10                      1   \n",
              "1                          10                      1   \n",
              "2                          10                      1   \n",
              "3                          10                      1   \n",
              "4                          10                      1   \n",
              "5                          10                      1   \n",
              "6                          10                      1   \n",
              "7                          10                      1   \n",
              "8                          10                      1   \n",
              "9                           2                      1   \n",
              "\n",
              "   pharmaceutical_tx_ongoing_indicator  ajcc_tumor_pathologic_pt  \\\n",
              "0                                    1                         1   \n",
              "1                                    1                         1   \n",
              "2                                    1                         1   \n",
              "3                                    1                         1   \n",
              "4                                    1                         1   \n",
              "5                                    1                         1   \n",
              "6                                    1                         1   \n",
              "7                                    1                         1   \n",
              "8                                    1                         1   \n",
              "9                                    2                         1   \n",
              "\n",
              "   ajcc_metastasis_pathologic_pm  ...  race  death_days_to  \\\n",
              "0                              1  ...     1            344   \n",
              "1                              1  ...     1            344   \n",
              "2                              1  ...     1            344   \n",
              "3                              1  ...     1            344   \n",
              "4                              1  ...     1            344   \n",
              "5                              1  ...     1            344   \n",
              "6                              1  ...     1            344   \n",
              "7                              1  ...     1            344   \n",
              "8                              1  ...     1            344   \n",
              "9                              2  ...     1              0   \n",
              "\n",
              "   vital_status_followup.1  pharmaceutical_therapy_type  \\\n",
              "0                        1                            1   \n",
              "1                        1                            1   \n",
              "2                        1                            1   \n",
              "3                        1                            1   \n",
              "4                        1                            1   \n",
              "5                        1                            1   \n",
              "6                        1                            1   \n",
              "7                        1                            1   \n",
              "8                        1                            1   \n",
              "9                        2                            2   \n",
              "\n",
              "   new_tumor_event_dx_days_to  ethnicity  hemoglobin_level  \\\n",
              "0                          13          1                 1   \n",
              "1                          13          1                 1   \n",
              "2                          13          1                 1   \n",
              "3                         243          1                 1   \n",
              "4                         243          1                 1   \n",
              "5                         243          1                 1   \n",
              "6                         265          1                 1   \n",
              "7                         265          1                 1   \n",
              "8                         265          1                 1   \n",
              "9                         359          1                 2   \n",
              "\n",
              "   prospective_collection  radiation_therapy_started_days_to  \\\n",
              "0                       1                                263   \n",
              "1                       1                                271   \n",
              "2                       1                                 61   \n",
              "3                       1                                263   \n",
              "4                       1                                271   \n",
              "5                       1                                 61   \n",
              "6                       1                                263   \n",
              "7                       1                                271   \n",
              "8                       1                                 61   \n",
              "9                       1                                481   \n",
              "\n",
              "   history_other_malignancy  \n",
              "0                         1  \n",
              "1                         1  \n",
              "2                         1  \n",
              "3                         1  \n",
              "4                         1  \n",
              "5                         1  \n",
              "6                         1  \n",
              "7                         1  \n",
              "8                         1  \n",
              "9                         1  \n",
              "\n",
              "[10 rows x 28 columns]"
            ]
          },
          "metadata": {
            "tags": []
          },
          "execution_count": 281
        }
      ]
    },
    {
      "cell_type": "code",
      "metadata": {
        "id": "K5Zhlr9MbLRH",
        "colab_type": "code",
        "colab": {},
        "outputId": "e124e74e-cd55-4df2-ac35-c20cbc8e5a11"
      },
      "source": [
        "for i in df.columns:\n",
        "  print(str(i)+\"--->\",df[i].unique())\n"
      ],
      "execution_count": 0,
      "outputs": [
        {
          "output_type": "stream",
          "text": [
            "ajcc_pathologic_tumor_stage---> [1 2 3 4]\n",
            "new_tumor_event_surgery_met---> [1 2 3]\n",
            "therapy_regimen_drug---> [1 2 3 4 5 6]\n",
            "laterality---> [1 2]\n",
            "platelet_count---> [1 2 3 4]\n",
            "lymph_nodes_examined_count---> [10  2  0 17  1  9  5 16 14  4 19  3 21  6 11  8  7 13 15 25]\n",
            "tumor_status_followup---> [1 2 3 4]\n",
            "pharmaceutical_tx_ongoing_indicator---> [1 2 3]\n",
            "ajcc_tumor_pathologic_pt---> [ 1  2  3  4  5  6  7  8  9 10]\n",
            "ajcc_metastasis_pathologic_pm---> [1 2 3]\n",
            "vital_status_followup---> [1 2 3]\n",
            "serum_calcium_level---> [1 2 3 4]\n",
            "tissue_source_site---> [1 2 3 4 5 6 7 8]\n",
            "ecog_score_final---> [1 2 3 4]\n",
            "white_cell_count---> [1 2 3 4]\n",
            "tumor_grade---> [1 2 3 4]\n",
            "tumor_status_patient---> [1 2 3]\n",
            "pharmaceutical_therapy_drug_name---> [ 1  2  3  4  5  6  7  8  9 10 11 12 13 14 15 16 17 18 19 20 21 22 23 24\n",
            " 25 26 27 28 29 30 31 32 33 34 35 36 37 38 39 40 41 42 43 44 45 46 47 48\n",
            " 49 50]\n",
            "race---> [1 2 3 4]\n",
            "death_days_to---> [ 344    0 1625  563  446  822 1317  320  572   93  313  164  552 1714\n",
            "  701  679 1343  166  162  224 2454  480 1337 1639 3615 1092  362  768\n",
            "  571  206 1912 1493   42  770 2299  139  561 2227 1463  574 2343   59\n",
            " 1964  202 1230  727 1590  828   69  878 1075  587 1200  992   41  485\n",
            " 2256  329   62  932 1661 1986  841  819  782 1432 1034  709  311 1270\n",
            " 2386  645 1133 1598  475  953 2190 1626 2105  722 1173  445  375 1111\n",
            "  242]\n",
            "vital_status_followup.1---> [1 2 3]\n",
            "pharmaceutical_therapy_type---> [1 2 3 4 5]\n",
            "new_tumor_event_dx_days_to---> [  13  243  265  359  137    0 2008  634  781   25   33  304  102 1717\n",
            " 1727   17   78  595  110   23   75  144  259  441  725  -19  492  324\n",
            "  213  153 1457 2780  457 2041  396 1709  886  694  485 2003 1821 1876\n",
            "  330 1467 1530  399 3766    4  740  582  672  223  873 2004 1227   70\n",
            "   61  295 1270  903  240 1423  208  169  322 -359  900  748  158  288\n",
            "  736  188  990  685  442  352  357  278  160  454  299  604  597 1912\n",
            "  423  538  377]\n",
            "ethnicity---> [1 2 3]\n",
            "hemoglobin_level---> [1 2 3 4]\n",
            "prospective_collection---> [1 2 3]\n",
            "radiation_therapy_started_days_to---> [ 263  271   61  481  165    0  385  422   69  -72   21  603  227  298\n",
            "  153  457 1755 1787 1903 1174 2070 1534  119  748  994  234    6  685\n",
            "  702  324  477  600  483  169  301  729  842]\n",
            "history_other_malignancy---> [1 2]\n"
          ],
          "name": "stdout"
        }
      ]
    },
    {
      "cell_type": "code",
      "metadata": {
        "id": "5THsMlIjbLRM",
        "colab_type": "code",
        "colab": {},
        "outputId": "200e367a-a439-490e-9b39-506b6a0c6fa4"
      },
      "source": [
        "df[\"lymph_nodes_examined_count\"].unique()"
      ],
      "execution_count": 0,
      "outputs": [
        {
          "output_type": "execute_result",
          "data": {
            "text/plain": [
              "array([10,  2,  0, 17,  1,  9,  5, 16, 14,  4, 19,  3, 21,  6, 11,  8,  7,\n",
              "       13, 15, 25], dtype=int64)"
            ]
          },
          "metadata": {
            "tags": []
          },
          "execution_count": 283
        }
      ]
    },
    {
      "cell_type": "code",
      "metadata": {
        "id": "nhx-E1cEbLRQ",
        "colab_type": "code",
        "colab": {}
      },
      "source": [
        "y=df['tumor_grade']\n",
        "df.drop('tumor_grade',axis=1,inplace=True)"
      ],
      "execution_count": 0,
      "outputs": []
    },
    {
      "cell_type": "code",
      "metadata": {
        "id": "CoU9acu-bLRV",
        "colab_type": "code",
        "colab": {},
        "outputId": "3965dca2-9900-43bb-85c6-5c9e2efeefe9"
      },
      "source": [
        "from sklearn.model_selection import train_test_split\n",
        "from sklearn.preprocessing import StandardScaler\n",
        "X_train,X_test,y_train,y_test=train_test_split(df,y,random_state=42,test_size=0.2)\n",
        "for column in [\"lymph_nodes_examined_count\",\"death_days_to\",\"radiation_therapy_started_days_to\",\"new_tumor_event_dx_days_to\"]:\n",
        "  X_train[column]=np.log(np.absolute(X_train[column])+1)\n",
        "  X_test[column]=np.log(np.absolute(X_test[column])+1)\n",
        "#X_train=StandardScaler().fit_transform(X_train)\n",
        "#X_test=StandardScaler().fit_transform(X_test)"
      ],
      "execution_count": 0,
      "outputs": [
        {
          "output_type": "stream",
          "text": [
            "D:\\Anaconda\\lib\\site-packages\\ipykernel_launcher.py:5: SettingWithCopyWarning: \n",
            "A value is trying to be set on a copy of a slice from a DataFrame.\n",
            "Try using .loc[row_indexer,col_indexer] = value instead\n",
            "\n",
            "See the caveats in the documentation: http://pandas.pydata.org/pandas-docs/stable/user_guide/indexing.html#returning-a-view-versus-a-copy\n",
            "  \"\"\"\n",
            "D:\\Anaconda\\lib\\site-packages\\ipykernel_launcher.py:6: SettingWithCopyWarning: \n",
            "A value is trying to be set on a copy of a slice from a DataFrame.\n",
            "Try using .loc[row_indexer,col_indexer] = value instead\n",
            "\n",
            "See the caveats in the documentation: http://pandas.pydata.org/pandas-docs/stable/user_guide/indexing.html#returning-a-view-versus-a-copy\n",
            "  \n"
          ],
          "name": "stderr"
        }
      ]
    },
    {
      "cell_type": "code",
      "metadata": {
        "id": "ieHrE-FTbLRZ",
        "colab_type": "code",
        "colab": {},
        "outputId": "999019ff-addd-4021-8c6a-2cd43f9a340c"
      },
      "source": [
        "from sklearn.model_selection import cross_val_score\n",
        "from sklearn.neighbors import KNeighborsClassifier\n",
        "from sklearn import svm\n",
        "knn=KNeighborsClassifier(n_neighbors=5)\n",
        "clf = svm.SVC(kernel='linear', C=4)\n",
        "scores = cross_val_score(knn, X_train, y_train, cv=5)\n",
        "print(scores)"
      ],
      "execution_count": 0,
      "outputs": [
        {
          "output_type": "stream",
          "text": [
            "[0.65060241 0.62962963 0.65       0.6875     0.67088608]\n"
          ],
          "name": "stdout"
        },
        {
          "output_type": "stream",
          "text": [
            "D:\\Anaconda\\lib\\site-packages\\sklearn\\model_selection\\_split.py:657: Warning: The least populated class in y has only 1 members, which is too few. The minimum number of members in any class cannot be less than n_splits=5.\n",
            "  % (min_groups, self.n_splits)), Warning)\n"
          ],
          "name": "stderr"
        }
      ]
    },
    {
      "cell_type": "code",
      "metadata": {
        "id": "G5UjCIppbLRd",
        "colab_type": "code",
        "colab": {},
        "outputId": "0e2b2963-fd17-4dab-f023-7d35b7dd3565"
      },
      "source": [
        "knn.fit(X_train,y_train)\n",
        "y_pred=knn.predict(X_test)\n",
        "from sklearn.metrics import accuracy_score\n",
        "print(accuracy_score(y_test,y_pred))#Accuracy score of Using K Nearest Neighbours"
      ],
      "execution_count": 0,
      "outputs": [
        {
          "output_type": "stream",
          "text": [
            "0.6732673267326733\n"
          ],
          "name": "stdout"
        }
      ]
    },
    {
      "cell_type": "code",
      "metadata": {
        "id": "XzE6jcwtbLRg",
        "colab_type": "code",
        "colab": {},
        "outputId": "8c7207f5-1b97-4249-b454-a06dbdefeee7"
      },
      "source": [
        "scores = cross_val_score(clf, X_train, y_train,cv=5)\n",
        "print(scores)\n",
        "clf.fit(X_train,y_train)\n",
        "y_pred=clf.predict(X_test)\n",
        "print(accuracy_score(y_test,y_pred))#Accuracy score for Using SVM"
      ],
      "execution_count": 0,
      "outputs": [
        {
          "output_type": "stream",
          "text": [
            "D:\\Anaconda\\lib\\site-packages\\sklearn\\model_selection\\_split.py:657: Warning: The least populated class in y has only 1 members, which is too few. The minimum number of members in any class cannot be less than n_splits=5.\n",
            "  % (min_groups, self.n_splits)), Warning)\n"
          ],
          "name": "stderr"
        },
        {
          "output_type": "stream",
          "text": [
            "[0.62650602 0.67901235 0.75       0.7125     0.70886076]\n",
            "0.6435643564356436\n"
          ],
          "name": "stdout"
        }
      ]
    },
    {
      "cell_type": "code",
      "metadata": {
        "id": "E3VZfmEWbLRk",
        "colab_type": "code",
        "colab": {},
        "outputId": "5a5a34d8-b786-4868-9cf0-1ed7f810cc89"
      },
      "source": [
        "from sklearn.tree import DecisionTreeClassifier\n",
        "dtc=DecisionTreeClassifier()\n",
        "scores = cross_val_score(dtc, X_train, y_train, cv=3)\n",
        "print(scores)"
      ],
      "execution_count": 0,
      "outputs": [
        {
          "output_type": "stream",
          "text": [
            "[0.65693431 0.65413534 0.72932331]\n"
          ],
          "name": "stdout"
        },
        {
          "output_type": "stream",
          "text": [
            "D:\\Anaconda\\lib\\site-packages\\sklearn\\model_selection\\_split.py:657: Warning: The least populated class in y has only 1 members, which is too few. The minimum number of members in any class cannot be less than n_splits=3.\n",
            "  % (min_groups, self.n_splits)), Warning)\n"
          ],
          "name": "stderr"
        }
      ]
    },
    {
      "cell_type": "code",
      "metadata": {
        "id": "sQZeSFJUbLRs",
        "colab_type": "code",
        "colab": {},
        "outputId": "bbf71140-1d9e-4c86-f75e-bbf508c42b29"
      },
      "source": [
        "dtc.fit(X_train,y_train)\n",
        "y_pred=dtc.predict(X_test)\n",
        "from sklearn.metrics import accuracy_score\n",
        "print(accuracy_score(y_test,y_pred))"
      ],
      "execution_count": 0,
      "outputs": [
        {
          "output_type": "stream",
          "text": [
            "0.7623762376237624\n"
          ],
          "name": "stdout"
        }
      ]
    },
    {
      "cell_type": "code",
      "metadata": {
        "id": "Iz__2mWDbLRz",
        "colab_type": "code",
        "colab": {},
        "outputId": "da85485a-aca5-4c01-c838-8884bd1a1254"
      },
      "source": [
        "from sklearn.ensemble import RandomForestClassifier\n",
        "rfc= RandomForestClassifier(max_depth=5)\n",
        "scores = cross_val_score(rfc, X_train, y_train, cv=3)\n",
        "print(scores)"
      ],
      "execution_count": 0,
      "outputs": [
        {
          "output_type": "stream",
          "text": [
            "[0.70072993 0.69172932 0.66917293]\n"
          ],
          "name": "stdout"
        },
        {
          "output_type": "stream",
          "text": [
            "D:\\Anaconda\\lib\\site-packages\\sklearn\\model_selection\\_split.py:657: Warning: The least populated class in y has only 1 members, which is too few. The minimum number of members in any class cannot be less than n_splits=3.\n",
            "  % (min_groups, self.n_splits)), Warning)\n",
            "D:\\Anaconda\\lib\\site-packages\\sklearn\\ensemble\\forest.py:245: FutureWarning: The default value of n_estimators will change from 10 in version 0.20 to 100 in 0.22.\n",
            "  \"10 in version 0.20 to 100 in 0.22.\", FutureWarning)\n",
            "D:\\Anaconda\\lib\\site-packages\\sklearn\\ensemble\\forest.py:245: FutureWarning: The default value of n_estimators will change from 10 in version 0.20 to 100 in 0.22.\n",
            "  \"10 in version 0.20 to 100 in 0.22.\", FutureWarning)\n",
            "D:\\Anaconda\\lib\\site-packages\\sklearn\\ensemble\\forest.py:245: FutureWarning: The default value of n_estimators will change from 10 in version 0.20 to 100 in 0.22.\n",
            "  \"10 in version 0.20 to 100 in 0.22.\", FutureWarning)\n"
          ],
          "name": "stderr"
        }
      ]
    },
    {
      "cell_type": "code",
      "metadata": {
        "id": "hMGdWryWbLR4",
        "colab_type": "code",
        "colab": {},
        "outputId": "01804c1d-9ea6-4fe3-fa4e-20b3a0d78a6f"
      },
      "source": [
        "rfc.fit(X_train,y_train)\n",
        "y_pred=dtc.predict(X_test)\n",
        "from sklearn.metrics import accuracy_score\n",
        "print(accuracy_score(y_test,y_pred))"
      ],
      "execution_count": 0,
      "outputs": [
        {
          "output_type": "stream",
          "text": [
            "0.7623762376237624\n"
          ],
          "name": "stdout"
        },
        {
          "output_type": "stream",
          "text": [
            "D:\\Anaconda\\lib\\site-packages\\sklearn\\ensemble\\forest.py:245: FutureWarning: The default value of n_estimators will change from 10 in version 0.20 to 100 in 0.22.\n",
            "  \"10 in version 0.20 to 100 in 0.22.\", FutureWarning)\n"
          ],
          "name": "stderr"
        }
      ]
    },
    {
      "cell_type": "code",
      "metadata": {
        "id": "74gfi-7YbLR9",
        "colab_type": "code",
        "colab": {},
        "outputId": "6247739f-8254-4aab-e0a3-2bd9ffb02a77"
      },
      "source": [
        "from sklearn.ensemble import GradientBoostingClassifier\n",
        "\n",
        "gbc=GradientBoostingClassifier(n_estimators=200,max_depth=4,verbose=True)\n",
        "cross_val_score(gbc,X_train,y_train,cv=3)"
      ],
      "execution_count": 0,
      "outputs": [
        {
          "output_type": "stream",
          "text": [
            "D:\\Anaconda\\lib\\site-packages\\sklearn\\model_selection\\_split.py:657: Warning: The least populated class in y has only 1 members, which is too few. The minimum number of members in any class cannot be less than n_splits=3.\n",
            "  % (min_groups, self.n_splits)), Warning)\n"
          ],
          "name": "stderr"
        },
        {
          "output_type": "stream",
          "text": [
            "      Iter       Train Loss   Remaining Time \n",
            "         1         262.2956            1.41s\n",
            "         2         238.4816            1.13s\n",
            "         3         218.5977            0.95s\n",
            "         4         201.2775            1.09s\n",
            "         5         186.9695            1.14s\n",
            "         6         174.1773            1.11s\n",
            "         7         162.9378            1.21s\n",
            "         8         152.6442            1.24s\n",
            "         9         143.3703            1.24s\n",
            "        10         135.4520            1.27s\n",
            "        20          90.5873            1.10s\n",
            "        30          64.6766            1.11s\n",
            "        40          50.9626            1.04s\n",
            "        50          41.2313            0.94s\n",
            "        60          35.6261            0.89s\n",
            "        70          30.9594            0.81s\n",
            "        80          26.5425            0.77s\n",
            "        90          22.8009            0.70s\n",
            "       100          19.9099            0.63s\n",
            "       200           7.3829            0.00s\n",
            "      Iter       Train Loss   Remaining Time \n",
            "         1         263.9007            2.62s\n",
            "         2         238.0637            2.01s\n",
            "         3         217.2593            1.33s\n",
            "         4         199.8501            1.82s\n",
            "         5         184.9205            2.19s\n",
            "         6         172.8795            2.32s\n",
            "         7         161.5669            1.98s\n",
            "         8         151.7833            2.13s\n",
            "         9         143.7076            1.88s\n",
            "        10         135.3487            2.04s\n",
            "        20          90.0652            1.55s\n",
            "        30          67.7855            1.43s\n",
            "        40          55.1765            1.27s\n",
            "        50          47.0197            1.15s\n",
            "        60          39.7271            1.04s\n",
            "        70          33.1501            0.95s\n",
            "        80          28.7764            0.86s\n",
            "        90          25.4251            0.78s\n",
            "       100          22.9265            0.70s\n",
            "       200          12.0667            0.00s\n",
            "      Iter       Train Loss   Remaining Time \n",
            "         1         263.0489            2.00s\n",
            "         2         236.8456            1.00s\n",
            "         3         215.9154            1.90s\n",
            "         4         198.2552            1.42s\n",
            "         5         184.1889            1.75s\n",
            "         6         171.0090            1.48s\n",
            "         7         160.1519            1.70s\n",
            "         8         149.6100            1.48s\n",
            "         9         141.3510            1.64s\n",
            "        10         133.8573            1.47s\n",
            "        20          91.3573            1.43s\n",
            "        30          68.7589            1.27s\n",
            "        40          53.0448            1.15s\n",
            "        50          43.1647            1.09s\n",
            "        60          35.6413            1.01s\n",
            "        70          29.9622            0.94s\n",
            "        80          25.7019            0.86s\n",
            "        90          21.9481            0.79s\n",
            "       100          19.0356            0.72s\n",
            "       200           6.4875            0.00s\n"
          ],
          "name": "stdout"
        },
        {
          "output_type": "execute_result",
          "data": {
            "text/plain": [
              "array([0.68613139, 0.7443609 , 0.80451128])"
            ]
          },
          "metadata": {
            "tags": []
          },
          "execution_count": 293
        }
      ]
    },
    {
      "cell_type": "code",
      "metadata": {
        "id": "MchtYZF9bLSB",
        "colab_type": "code",
        "colab": {},
        "outputId": "90d662d4-bc03-4076-a03b-a946b581d452"
      },
      "source": [
        "gbc.fit(X_train,y_train)"
      ],
      "execution_count": 0,
      "outputs": [
        {
          "output_type": "stream",
          "text": [
            "      Iter       Train Loss   Remaining Time \n",
            "         1         396.8449            1.43s\n",
            "         2         360.2073            1.42s\n",
            "         3         331.0139            1.35s\n",
            "         4         304.9413            1.38s\n",
            "         5         283.3779            1.50s\n",
            "         6         265.7997            1.50s\n",
            "         7         249.8889            1.55s\n",
            "         8         236.3070            1.59s\n",
            "         9         224.6850            1.61s\n",
            "        10         213.6521            1.44s\n",
            "        20         151.6598            1.47s\n",
            "        30         122.2834            1.45s\n",
            "        40         104.2953            1.32s\n",
            "        50          90.6912            1.24s\n",
            "        60          78.7155            1.14s\n",
            "        70          67.7162            1.05s\n",
            "        80          58.0070            0.96s\n",
            "        90          49.1918            0.91s\n",
            "       100          43.8028            0.82s\n",
            "       200          18.7853            0.00s\n"
          ],
          "name": "stdout"
        },
        {
          "output_type": "execute_result",
          "data": {
            "text/plain": [
              "GradientBoostingClassifier(criterion='friedman_mse', init=None,\n",
              "                           learning_rate=0.1, loss='deviance', max_depth=4,\n",
              "                           max_features=None, max_leaf_nodes=None,\n",
              "                           min_impurity_decrease=0.0, min_impurity_split=None,\n",
              "                           min_samples_leaf=1, min_samples_split=2,\n",
              "                           min_weight_fraction_leaf=0.0, n_estimators=200,\n",
              "                           n_iter_no_change=None, presort='auto',\n",
              "                           random_state=None, subsample=1.0, tol=0.0001,\n",
              "                           validation_fraction=0.1, verbose=True,\n",
              "                           warm_start=False)"
            ]
          },
          "metadata": {
            "tags": []
          },
          "execution_count": 294
        }
      ]
    },
    {
      "cell_type": "code",
      "metadata": {
        "scrolled": true,
        "id": "ZZRPgqGlbLSF",
        "colab_type": "code",
        "colab": {},
        "outputId": "8e381ee6-7623-4ee7-c353-9b4b6f45d8cf"
      },
      "source": [
        "y_pred=gbc.predict(X_test)\n",
        "from sklearn.metrics import accuracy_score\n",
        "print(accuracy_score(y_test,y_pred))"
      ],
      "execution_count": 0,
      "outputs": [
        {
          "output_type": "stream",
          "text": [
            "0.7623762376237624\n"
          ],
          "name": "stdout"
        }
      ]
    },
    {
      "cell_type": "code",
      "metadata": {
        "id": "8CNu4TMmbLSJ",
        "colab_type": "code",
        "colab": {}
      },
      "source": [
        "#this section will have the result of 33 features"
      ],
      "execution_count": 0,
      "outputs": []
    },
    {
      "cell_type": "code",
      "metadata": {
        "id": "zdzkQ0kSbLSM",
        "colab_type": "code",
        "colab": {},
        "outputId": "730aa69d-bfca-4bbe-e93c-0432c3dcf131"
      },
      "source": [
        "y.unique()"
      ],
      "execution_count": 0,
      "outputs": [
        {
          "output_type": "execute_result",
          "data": {
            "text/plain": [
              "array([1, 2, 3, 4], dtype=int64)"
            ]
          },
          "metadata": {
            "tags": []
          },
          "execution_count": 274
        }
      ]
    },
    {
      "cell_type": "code",
      "metadata": {
        "id": "M9bVD2o5bLSP",
        "colab_type": "code",
        "colab": {}
      },
      "source": [
        ""
      ],
      "execution_count": 0,
      "outputs": []
    },
    {
      "cell_type": "code",
      "metadata": {
        "id": "3taYao0IbLST",
        "colab_type": "code",
        "colab": {}
      },
      "source": [
        ""
      ],
      "execution_count": 0,
      "outputs": []
    },
    {
      "cell_type": "code",
      "metadata": {
        "id": "nhKLq9KVbLSX",
        "colab_type": "code",
        "colab": {}
      },
      "source": [
        ""
      ],
      "execution_count": 0,
      "outputs": []
    },
    {
      "cell_type": "code",
      "metadata": {
        "id": "WhJ6JjTCbLSa",
        "colab_type": "code",
        "colab": {}
      },
      "source": [
        ""
      ],
      "execution_count": 0,
      "outputs": []
    },
    {
      "cell_type": "code",
      "metadata": {
        "id": "CfzLptk0bLSd",
        "colab_type": "code",
        "colab": {}
      },
      "source": [
        ""
      ],
      "execution_count": 0,
      "outputs": []
    },
    {
      "cell_type": "code",
      "metadata": {
        "id": "obOjC8tlbLSh",
        "colab_type": "code",
        "colab": {}
      },
      "source": [
        ""
      ],
      "execution_count": 0,
      "outputs": []
    },
    {
      "cell_type": "code",
      "metadata": {
        "id": "vGKQN4inbLSk",
        "colab_type": "code",
        "colab": {}
      },
      "source": [
        ""
      ],
      "execution_count": 0,
      "outputs": []
    },
    {
      "cell_type": "code",
      "metadata": {
        "id": "r1xBZCU8bLSo",
        "colab_type": "code",
        "colab": {}
      },
      "source": [
        ""
      ],
      "execution_count": 0,
      "outputs": []
    },
    {
      "cell_type": "code",
      "metadata": {
        "id": "QyM8byKebLSw",
        "colab_type": "code",
        "colab": {}
      },
      "source": [
        ""
      ],
      "execution_count": 0,
      "outputs": []
    }
  ]
}